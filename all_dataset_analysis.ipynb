{
 "cells": [
  {
   "cell_type": "markdown",
   "id": "285d9d10",
   "metadata": {},
   "source": [
    "# Tutorial: ECT for example dataset"
   ]
  },
  {
   "cell_type": "markdown",
   "id": "c34acac6-dc72-4687-8349-4c31c4df3a6f",
   "metadata": {},
   "source": [
    "<div>\n",
    "<img src=\"images/graphECTgif.gif\" width=\"800\" align='center'/>\n",
    "</div>"
   ]
  },
  {
   "cell_type": "code",
   "execution_count": 1,
   "id": "844822f0",
   "metadata": {},
   "outputs": [],
   "source": [
    "import pandas as pd\n",
    "import matplotlib.pyplot as plt\n",
    "import numpy as np\n",
    "import os\n",
    "from pathlib import Path\n",
    "\n",
    "# Only for testing purposes\n",
    "from sys import path\n",
    "path.append( \"../../ect/ect\" )\n",
    "from ect import ECT, EmbeddedGraph\n"
   ]
  },
  {
   "cell_type": "markdown",
   "id": "d423d195-7665-4058-a8ae-f0852eeef283",
   "metadata": {},
   "source": [
    "We are using a subset of the leaf shape dataset from [(Li et al., 2018)](https://www.frontiersin.org/journals/plant-science/articles/10.3389/fpls.2018.00553/full) as an example in this tutorial. Samples in the dataset are coordinates $(x,y)\\in\\mathbb{R}^2$ that form outlines of leaves. The data is pre-centered and scaled to account for any sampling resolution differences between leaf samples.\n",
    "In the published version of the dataset, these coordinates are not ordered, however in order to represent the leaf outlines as a graph, we require the coordinates be ordered such that the outline of each leaf can be traced out by the graph representation.\n",
    "To address the lack of ordering of the coordinates, we use the dataset version from [(Wiley, 2023)](https://github.com/willeyna/ECT\\_of\\_leaves), in which they use $2$-nearest neighbor graphs to order all coordinates so as to trace the outline of each leaf."
   ]
  },
  {
   "cell_type": "markdown",
   "id": "41c9348e-af55-4ed6-ab2f-9ce5c2dfb786",
   "metadata": {},
   "source": [
    "Using coordinates for each leaf, ordered such that connecting subsequent coordinates in forms the leaf outline, we build a graph representation of each leaf sample. Each of the coordinates of the leaf are represented as vertices in the graph, with edges between vertices that are adjacent in the leaf outline and the graph embedding defined by the coordinates $(x,y)\\in\\mathbb{R}^2$ for each vertex. Here is an example of the graph representation for this dataset from the Cotton class, zoomed in (right, in red) to show graph structure and the subgraph highlighted in red on the full outline graph."
   ]
  },
  {
   "cell_type": "markdown",
   "id": "4e846a1b-8204-4ebb-92e1-64e63022f15e",
   "metadata": {},
   "source": [
    "<div>\n",
    "<img src=\"images/Cotton_full.png\" width=\"400\" align='center'/>\n",
    "<img src=\"images/Cotton_zoom.png\" width=\"400\" align='center'/>\n",
    "</div>"
   ]
  },
  {
   "cell_type": "markdown",
   "id": "581a77e1",
   "metadata": {},
   "source": [
    "# Load in the leaf dataset\n",
    "- We will look at the full dataset of leaves [(Li et al., 2018)](https://www.frontiersin.org/journals/plant-science/articles/10.3389/fpls.2018.00553/full).\n",
    "- The ECT of each leaf sample is computed and saved as a .npy file in a directory structure matching the original dataset.\n"
   ]
  },
  {
   "cell_type": "markdown",
   "id": "607251f4-29b1-406f-bdef-5a9a4cccab7c",
   "metadata": {},
   "source": [
    "### Define datasets and groups"
   ]
  },
  {
   "cell_type": "markdown",
   "id": "04635c35-7fdf-479c-8c8a-d8924218867d",
   "metadata": {},
   "source": [
    "There are multiple sub-folders per a leaf type. First, for all the folders `datasets`, we need to define the `group`, or larger leaf category the leaf falls in. Below, the code includes all sub-folder `datasets` as a list, and assigns them their correct `group` identity that we will use for building our model and predicting."
   ]
  },
  {
   "cell_type": "code",
   "execution_count": 2,
   "id": "18440b38-6e52-4742-affd-42feb859bbf9",
   "metadata": {},
   "outputs": [],
   "source": [
    "# a list of folder directories of datasets to analyze\n",
    "datasets = [\"Alstroemeria\",\n",
    "            \"Apple\",\n",
    "            \"Arabidopsis\",\n",
    "            \"Arabidopsis_asymmetry\",\n",
    "            \"Brassica/napus\",\n",
    "            \"Brassica/rapa\",\n",
    "            \"Coleus/Co1\",\n",
    "            \"Coleus/Co2\",\n",
    "            \"Coleus/Co3\",\n",
    "            \"Coleus/Co4\",\n",
    "            \"Coleus/Co5\",\n",
    "            \"Coleus/Co6\",\n",
    "            \"Cotton\",\n",
    "            \"Grape/Domesticated_grape/GrapeJune1.2011\",\n",
    "            \"Grape/Domesticated_grape/GrapeMay28.2011\",\n",
    "            \"Grape/Domesticated_grape/GrapeMay29.2011\",\n",
    "            \"Grape/Domesticated_grape/GrapeMay30.2011\",\n",
    "            \"Grape/Domesticated_grape/GrapeMay31.2011\",\n",
    "            \"Grape/Geneva_2013/Folder1_Jose\",\n",
    "            \"Grape/Geneva_2013/Folder2_Tommy\",\n",
    "            \"Grape/Geneva_2013/Folder3_Danny\",\n",
    "            \"Grape/Geneva_2013/Folder4_Quaneisha\",\n",
    "            \"Grape/Geneva_2013/Folder5_Susan\",\n",
    "            \"Grape/Geneva_2013/Folder6_Darren\",\n",
    "            \"Grape/Geneva_2013/Folder7_Jose2\",\n",
    "            \"Grape/Geneva_2013/Folder8_Susan2\",\n",
    "            \"Grape/Geneva_2013/Folder9_Tommy2\",\n",
    "            \"Grape/Geneva_2013/Folder10_Quaneisha2\",\n",
    "            \"Grape/Geneva_2013/Folder11_Darren2\",\n",
    "            \"Grape/Geneva_2013/Folder12_Danny\",\n",
    "            \"Grape/Geneva_2015/060815\",\n",
    "            \"Grape/Geneva_2015/060915\",\n",
    "            \"Grape/Geneva_2015/061015\",\n",
    "            \"Grape/Geneva_2016/Dan_Geneva_2016\",\n",
    "            \"Grape/Geneva_2016/MF_Geneva_2016\",\n",
    "            \"Grape/MtVernon_scans/2014_MtVernon_Scans\",\n",
    "            \"Grape/MtVernon_scans/2016_MtVernon_Scans\",\n",
    "            \"Grass\",\n",
    "            \"Ivy\",\n",
    "            \"Leafsnap\",\n",
    "            \"Passiflora\",\n",
    "            \"Pepper\",\n",
    "            \"Potato\",\n",
    "            \"Tomato_asymmetry\",\n",
    "            \"Tomato_BILs/B1\",\n",
    "            \"Tomato_BILs/B2\",\n",
    "            \"Tomato_BILs/B3\",\n",
    "            \"Tomato_chamber/C1\",\n",
    "            \"Tomato_chamber/C2\",\n",
    "            \"Tomato_chamber/C3\",\n",
    "            \"Tomato_chamber/C4\",\n",
    "            \"Tomato_chamber/C5\",\n",
    "            \"Tomato_entire\",\n",
    "            \"Tomato_field/F1\",\n",
    "            \"Tomato_field/F2\",\n",
    "            \"Tomato_wild/WA\",\n",
    "            \"Tomato_wild/WB\",\n",
    "            \"Transect/Batch_1_W\",\n",
    "            \"Transect/Batch_2_B\",\n",
    "            \"Viburnum/V1\",\n",
    "            \"Viburnum/V2\",\n",
    "           ]\n",
    "\n",
    "# make a list of overall groups\n",
    "groups = [] # store group names\n",
    "\n",
    "for i in datasets: # for each dataset\n",
    "\n",
    "    if (\"Tomato\" in i) & (\"/\" in i):\n",
    "        groups.append(i[:i.index('_')]) # then only take up to the underscore\n",
    "    \n",
    "    elif \"/\" in i: # if there are subfolders\n",
    "        groups.append(i[:i.index('/')]) # then only take the name of the first folder\n",
    "    elif \"_\" in i: # if there is a redundant folder with \"_\" like Arabidopsis\n",
    "        groups.append(i[:i.index('_')]) # then only take up to the underscore\n",
    "    else:\n",
    "        groups.append(i) # otherwise just take the whole name"
   ]
  },
  {
   "cell_type": "markdown",
   "id": "aef35d37-2785-4ca2-96b4-270c15ad99a3",
   "metadata": {},
   "source": [
    "We save the full path, group identity, and file name for each file to list to make a dataframe"
   ]
  },
  {
   "cell_type": "code",
   "execution_count": 3,
   "id": "e8fd8671-f711-4d7a-abeb-35f2c4ba54d7",
   "metadata": {},
   "outputs": [
    {
     "name": "stdout",
     "output_type": "stream",
     "text": [
      "Computing ECT of files in  example_data/2017_leaves/ ...\n",
      "There are  0  samples to load in this directory.\n",
      "Computing ECT of files in  example_data/2017_leaves/Apple ...\n",
      "There are  9619  samples to load in this directory.\n",
      "Computing ECT of files in  example_data/2017_leaves/Passiflora ...\n",
      "There are  3298  samples to load in this directory.\n",
      "Computing ECT of files in  example_data/2017_leaves/Ivy ...\n",
      "There are  865  samples to load in this directory.\n",
      "Computing ECT of files in  example_data/2017_leaves/Arabidopsis ...\n",
      "There are  2168  samples to load in this directory.\n",
      "Computing ECT of files in  example_data/2017_leaves/Leafsnap ...\n",
      "There are  4565  samples to load in this directory.\n",
      "Computing ECT of files in  example_data/2017_leaves/Grass ...\n",
      "There are  866  samples to load in this directory.\n",
      "Computing ECT of files in  example_data/2017_leaves/Potato ...\n",
      "There are  1840  samples to load in this directory.\n",
      "Computing ECT of files in  example_data/2017_leaves/Alstroemeria ...\n",
      "There are  2392  samples to load in this directory.\n",
      "Computing ECT of files in  example_data/2017_leaves/Cotton ...\n",
      "There are  2885  samples to load in this directory.\n",
      "Computing ECT of files in  example_data/2017_leaves/Tomato_chamber ...\n",
      "There are  0  samples to load in this directory.\n",
      "Computing ECT of files in  example_data/2017_leaves/Tomato_chamber/C1 ...\n",
      "There are  6326  samples to load in this directory.\n",
      "Computing ECT of files in  example_data/2017_leaves/Tomato_chamber/C3 ...\n",
      "There are  6198  samples to load in this directory.\n",
      "Computing ECT of files in  example_data/2017_leaves/Tomato_chamber/C4 ...\n",
      "There are  6200  samples to load in this directory.\n",
      "Computing ECT of files in  example_data/2017_leaves/Tomato_chamber/C5 ...\n",
      "There are  9259  samples to load in this directory.\n",
      "Computing ECT of files in  example_data/2017_leaves/Tomato_chamber/C2 ...\n",
      "There are  6056  samples to load in this directory.\n",
      "Computing ECT of files in  example_data/2017_leaves/Tomato_field ...\n",
      "There are  0  samples to load in this directory.\n",
      "Computing ECT of files in  example_data/2017_leaves/Tomato_field/F2 ...\n",
      "There are  5628  samples to load in this directory.\n",
      "Computing ECT of files in  example_data/2017_leaves/Tomato_field/F1 ...\n",
      "There are  5646  samples to load in this directory.\n",
      "Computing ECT of files in  example_data/2017_leaves/Tomato_wild ...\n",
      "There are  0  samples to load in this directory.\n",
      "Computing ECT of files in  example_data/2017_leaves/Tomato_wild/WB ...\n",
      "There are  5562  samples to load in this directory.\n",
      "Computing ECT of files in  example_data/2017_leaves/Tomato_wild/WA ...\n",
      "There are  6060  samples to load in this directory.\n",
      "Computing ECT of files in  example_data/2017_leaves/Tomato_entire ...\n",
      "There are  672  samples to load in this directory.\n",
      "Computing ECT of files in  example_data/2017_leaves/Arabidopsis_asymmetry ...\n",
      "There are  2933  samples to load in this directory.\n",
      "Computing ECT of files in  example_data/2017_leaves/Transect ...\n",
      "There are  0  samples to load in this directory.\n",
      "Computing ECT of files in  example_data/2017_leaves/Transect/Batch_1_W ...\n",
      "There are  3094  samples to load in this directory.\n",
      "Computing ECT of files in  example_data/2017_leaves/Transect/Batch_2_B ...\n",
      "There are  2714  samples to load in this directory.\n",
      "Computing ECT of files in  example_data/2017_leaves/Viburnum ...\n",
      "There are  0  samples to load in this directory.\n",
      "Computing ECT of files in  example_data/2017_leaves/Viburnum/V1 ...\n",
      "There are  985  samples to load in this directory.\n",
      "Computing ECT of files in  example_data/2017_leaves/Viburnum/V2 ...\n",
      "There are  1437  samples to load in this directory.\n",
      "Computing ECT of files in  example_data/2017_leaves/Tomato_asymmetry ...\n",
      "There are  1617  samples to load in this directory.\n",
      "Computing ECT of files in  example_data/2017_leaves/Tomato_BILs ...\n",
      "There are  0  samples to load in this directory.\n",
      "Computing ECT of files in  example_data/2017_leaves/Tomato_BILs/B2 ...\n",
      "There are  7857  samples to load in this directory.\n",
      "Computing ECT of files in  example_data/2017_leaves/Tomato_BILs/B3 ...\n",
      "There are  7434  samples to load in this directory.\n",
      "Computing ECT of files in  example_data/2017_leaves/Tomato_BILs/B1 ...\n",
      "There are  7519  samples to load in this directory.\n",
      "Computing ECT of files in  example_data/2017_leaves/Grape ...\n",
      "There are  0  samples to load in this directory.\n",
      "Computing ECT of files in  example_data/2017_leaves/Grape/Geneva_2016 ...\n",
      "There are  0  samples to load in this directory.\n",
      "Computing ECT of files in  example_data/2017_leaves/Grape/Geneva_2016/Dan_Geneva_2016 ...\n",
      "There are  1002  samples to load in this directory.\n",
      "Computing ECT of files in  example_data/2017_leaves/Grape/Geneva_2016/MF_Geneva_2016 ...\n",
      "There are  1119  samples to load in this directory.\n",
      "Computing ECT of files in  example_data/2017_leaves/Grape/MtVernon_scans ...\n",
      "There are  0  samples to load in this directory.\n",
      "Computing ECT of files in  example_data/2017_leaves/Grape/MtVernon_scans/2014_MtVernon_Scans ...\n",
      "There are  1122  samples to load in this directory.\n",
      "Computing ECT of files in  example_data/2017_leaves/Grape/MtVernon_scans/2016_MtVernon_Scans ...\n",
      "There are  1140  samples to load in this directory.\n",
      "Computing ECT of files in  example_data/2017_leaves/Grape/Geneva_2015 ...\n",
      "There are  0  samples to load in this directory.\n",
      "Computing ECT of files in  example_data/2017_leaves/Grape/Geneva_2015/060815 ...\n",
      "There are  1007  samples to load in this directory.\n",
      "Computing ECT of files in  example_data/2017_leaves/Grape/Geneva_2015/060915 ...\n",
      "There are  904  samples to load in this directory.\n",
      "Computing ECT of files in  example_data/2017_leaves/Grape/Geneva_2015/061015 ...\n",
      "There are  459  samples to load in this directory.\n",
      "Computing ECT of files in  example_data/2017_leaves/Grape/Geneva_2013 ...\n",
      "There are  0  samples to load in this directory.\n",
      "Computing ECT of files in  example_data/2017_leaves/Grape/Geneva_2013/Folder3_Danny ...\n",
      "There are  276  samples to load in this directory.\n",
      "Computing ECT of files in  example_data/2017_leaves/Grape/Geneva_2013/Folder8_Susan2 ...\n",
      "There are  255  samples to load in this directory.\n",
      "Computing ECT of files in  example_data/2017_leaves/Grape/Geneva_2013/Folder12_Danny ...\n",
      "There are  282  samples to load in this directory.\n",
      "Computing ECT of files in  example_data/2017_leaves/Grape/Geneva_2013/Folder5_Susan ...\n",
      "There are  296  samples to load in this directory.\n",
      "Computing ECT of files in  example_data/2017_leaves/Grape/Geneva_2013/Folder6_Darren ...\n",
      "There are  305  samples to load in this directory.\n",
      "Computing ECT of files in  example_data/2017_leaves/Grape/Geneva_2013/Folder2_Tommy ...\n",
      "There are  234  samples to load in this directory.\n",
      "Computing ECT of files in  example_data/2017_leaves/Grape/Geneva_2013/Folder4_Quaneisha ...\n",
      "There are  326  samples to load in this directory.\n",
      "Computing ECT of files in  example_data/2017_leaves/Grape/Geneva_2013/Folder7_Jose2 ...\n",
      "There are  305  samples to load in this directory.\n",
      "Computing ECT of files in  example_data/2017_leaves/Grape/Geneva_2013/Folder11_Darren2 ...\n",
      "There are  247  samples to load in this directory.\n",
      "Computing ECT of files in  example_data/2017_leaves/Grape/Geneva_2013/Folder10_Quaneisha2 ...\n",
      "There are  196  samples to load in this directory.\n",
      "Computing ECT of files in  example_data/2017_leaves/Grape/Geneva_2013/Folder1_Jose ...\n",
      "There are  245  samples to load in this directory.\n",
      "Computing ECT of files in  example_data/2017_leaves/Grape/Geneva_2013/Folder9_Tommy2 ...\n",
      "There are  240  samples to load in this directory.\n",
      "Computing ECT of files in  example_data/2017_leaves/Grape/Domesticated_grape ...\n",
      "There are  0  samples to load in this directory.\n",
      "Computing ECT of files in  example_data/2017_leaves/Grape/Domesticated_grape/GrapeMay29.2011 ...\n",
      "There are  276  samples to load in this directory.\n",
      "Computing ECT of files in  example_data/2017_leaves/Grape/Domesticated_grape/GrapeMay28.2011 ...\n",
      "There are  202  samples to load in this directory.\n",
      "Computing ECT of files in  example_data/2017_leaves/Grape/Domesticated_grape/GrapeMay31.2011 ...\n",
      "There are  323  samples to load in this directory.\n",
      "Computing ECT of files in  example_data/2017_leaves/Grape/Domesticated_grape/GrapeMay30.2011 ...\n",
      "There are  355  samples to load in this directory.\n",
      "Computing ECT of files in  example_data/2017_leaves/Grape/Domesticated_grape/GrapeJune1.2011 ...\n",
      "There are  263  samples to load in this directory.\n",
      "Computing ECT of files in  example_data/2017_leaves/Brassica ...\n",
      "There are  0  samples to load in this directory.\n",
      "Computing ECT of files in  example_data/2017_leaves/Brassica/napus ...\n",
      "There are  1673  samples to load in this directory.\n",
      "Computing ECT of files in  example_data/2017_leaves/Brassica/rapa ...\n",
      "There are  159  samples to load in this directory.\n",
      "Computing ECT of files in  example_data/2017_leaves/Pepper ...\n",
      "There are  3277  samples to load in this directory.\n",
      "Computing ECT of files in  example_data/2017_leaves/Coleus ...\n",
      "There are  0  samples to load in this directory.\n",
      "Computing ECT of files in  example_data/2017_leaves/Coleus/Co1 ...\n",
      "There are  6562  samples to load in this directory.\n",
      "Computing ECT of files in  example_data/2017_leaves/Coleus/Co6 ...\n",
      "There are  4292  samples to load in this directory.\n",
      "Computing ECT of files in  example_data/2017_leaves/Coleus/Co3 ...\n",
      "There are  5561  samples to load in this directory.\n",
      "Computing ECT of files in  example_data/2017_leaves/Coleus/Co4 ...\n",
      "There are  6311  samples to load in this directory.\n",
      "Computing ECT of files in  example_data/2017_leaves/Coleus/Co5 ...\n",
      "There are  6137  samples to load in this directory.\n",
      "Computing ECT of files in  example_data/2017_leaves/Coleus/Co2 ...\n",
      "There are  5744  samples to load in this directory.\n"
     ]
    }
   ],
   "source": [
    "# where is the leaf data\n",
    "mypath = 'example_data/2017_leaves/'\n",
    "\n",
    "# list to store full path\n",
    "full_path_list = []\n",
    "\n",
    "# list to store just file names\n",
    "file_names = []\n",
    "\n",
    "# list to store group\n",
    "group_names = []\n",
    "\n",
    "# loop through file system\n",
    "classes=[]\n",
    "class_count = 0\n",
    "for path, subdirs, files in os.walk(mypath):\n",
    "    classes.extend(subdirs)\n",
    "    files = [f for f in files if not f[0] == '.']\n",
    "    subdirs[:] = [d for d in subdirs if (d[0] != '.')]\n",
    "    print('Computing ECT of files in ', path, '...')\n",
    "    print(\"There are \",len(files), ' samples to load in this directory.')\n",
    "    \n",
    "    for name in files:\n",
    "        \n",
    "        input_filedir = os.path.join(path, name) # input file directory\n",
    "        file = input_filedir[input_filedir.rfind(\"/\")+1:] # get just the file name itself\n",
    "        # get the full path of the folders minus file name\n",
    "        full_path = input_filedir[:input_filedir.rfind(\"/\")]\n",
    "        folder = full_path[len(mypath):]\n",
    "        # get the corresponding group\n",
    "        group = groups[datasets.index(folder)]\n",
    "\n",
    "        full_path_list.append(input_filedir)\n",
    "        file_names.append(file)\n",
    "        group_names.append(group)\n",
    "        "
   ]
  },
  {
   "cell_type": "markdown",
   "id": "dc7d061b-1ec9-4890-8123-488cdf13ceee",
   "metadata": {},
   "source": [
    "Create a dataframe and save"
   ]
  },
  {
   "cell_type": "code",
   "execution_count": 4,
   "id": "c1cd1eec-6f7f-48e5-aa46-eda6b1955f07",
   "metadata": {},
   "outputs": [],
   "source": [
    "# create dataframe\n",
    "df = pd.DataFrame({\n",
    "    \"full_path\":full_path_list,\n",
    "    \"group\":group_names,\n",
    "    \"file\":file_names\n",
    "})\n",
    "\n",
    "# save the df\n",
    "df.to_csv(\"2017_datasets.csv\", index=False)"
   ]
  },
  {
   "cell_type": "markdown",
   "id": "d3a15815-90d2-4ee3-ac71-e4f281a87f01",
   "metadata": {},
   "source": [
    "### Read back in info on datasets and sample files to analyze"
   ]
  },
  {
   "cell_type": "code",
   "execution_count": 5,
   "id": "b9f873c9-5b72-4bcf-8d48-c29d4d9dae50",
   "metadata": {},
   "outputs": [
    {
     "data": {
      "text/html": [
       "<div>\n",
       "<style scoped>\n",
       "    .dataframe tbody tr th:only-of-type {\n",
       "        vertical-align: middle;\n",
       "    }\n",
       "\n",
       "    .dataframe tbody tr th {\n",
       "        vertical-align: top;\n",
       "    }\n",
       "\n",
       "    .dataframe thead th {\n",
       "        text-align: right;\n",
       "    }\n",
       "</style>\n",
       "<table border=\"1\" class=\"dataframe\">\n",
       "  <thead>\n",
       "    <tr style=\"text-align: right;\">\n",
       "      <th></th>\n",
       "      <th>full_path</th>\n",
       "      <th>group</th>\n",
       "      <th>file</th>\n",
       "    </tr>\n",
       "  </thead>\n",
       "  <tbody>\n",
       "    <tr>\n",
       "      <th>0</th>\n",
       "      <td>example_data/2017_leaves/Apple/4187_2_2842.npy</td>\n",
       "      <td>Apple</td>\n",
       "      <td>4187_2_2842.npy</td>\n",
       "    </tr>\n",
       "    <tr>\n",
       "      <th>1</th>\n",
       "      <td>example_data/2017_leaves/Apple/2151_2634.npy</td>\n",
       "      <td>Apple</td>\n",
       "      <td>2151_2634.npy</td>\n",
       "    </tr>\n",
       "    <tr>\n",
       "      <th>2</th>\n",
       "      <td>example_data/2017_leaves/Apple/1220_2_1744.npy</td>\n",
       "      <td>Apple</td>\n",
       "      <td>1220_2_1744.npy</td>\n",
       "    </tr>\n",
       "    <tr>\n",
       "      <th>3</th>\n",
       "      <td>example_data/2017_leaves/Apple/1178_692.npy</td>\n",
       "      <td>Apple</td>\n",
       "      <td>1178_692.npy</td>\n",
       "    </tr>\n",
       "    <tr>\n",
       "      <th>4</th>\n",
       "      <td>example_data/2017_leaves/Apple/1010_686.npy</td>\n",
       "      <td>Apple</td>\n",
       "      <td>1010_686.npy</td>\n",
       "    </tr>\n",
       "  </tbody>\n",
       "</table>\n",
       "</div>"
      ],
      "text/plain": [
       "                                        full_path  group             file\n",
       "0  example_data/2017_leaves/Apple/4187_2_2842.npy  Apple  4187_2_2842.npy\n",
       "1    example_data/2017_leaves/Apple/2151_2634.npy  Apple    2151_2634.npy\n",
       "2  example_data/2017_leaves/Apple/1220_2_1744.npy  Apple  1220_2_1744.npy\n",
       "3     example_data/2017_leaves/Apple/1178_692.npy  Apple     1178_692.npy\n",
       "4     example_data/2017_leaves/Apple/1010_686.npy  Apple     1010_686.npy"
      ]
     },
     "execution_count": 5,
     "metadata": {},
     "output_type": "execute_result"
    }
   ],
   "source": [
    "# read in dataframe\n",
    "df = pd.read_csv(\"2017_datasets.csv\")\n",
    "\n",
    "# check df\n",
    "df.head()"
   ]
  },
  {
   "cell_type": "markdown",
   "id": "b7097176-29b3-4820-8650-3f68be1c3942",
   "metadata": {},
   "source": [
    "Get counts for all the groups"
   ]
  },
  {
   "cell_type": "code",
   "execution_count": 6,
   "id": "91fe22ba-470c-4c65-b760-ce1e01e88dda",
   "metadata": {},
   "outputs": [
    {
     "data": {
      "text/plain": [
       "group\n",
       "Tomato          82034\n",
       "Coleus          34607\n",
       "Grape           11379\n",
       "Apple            9619\n",
       "Transect         5808\n",
       "Arabidopsis      5101\n",
       "Leafsnap         4565\n",
       "Passiflora       3298\n",
       "Pepper           3277\n",
       "Cotton           2885\n",
       "Viburnum         2422\n",
       "Alstroemeria     2392\n",
       "Potato           1840\n",
       "Brassica         1832\n",
       "Grass             866\n",
       "Ivy               865\n",
       "Name: count, dtype: int64"
      ]
     },
     "execution_count": 6,
     "metadata": {},
     "output_type": "execute_result"
    }
   ],
   "source": [
    "df[\"group\"].value_counts()"
   ]
  },
  {
   "cell_type": "code",
   "execution_count": 7,
   "id": "0cde76fa-42a6-49f7-ad1b-245db72c061d",
   "metadata": {},
   "outputs": [],
   "source": [
    "rand_num = 50 # number from each group to sample\n",
    "rand_state = 42 # random state for reproducibility\n",
    "\n",
    "df_list = [] # a list of dfs to concatenated later\n",
    "\n",
    "for g in df[\"group\"].unique(): # for each group\n",
    "\n",
    "    if (g == \"Transect\") | (g == \"Leafsnap\"): # skip if transect or leafsnap\n",
    "        continue\n",
    "\n",
    "    curr_group = df[df[\"group\"]==g] # mask for the current group\n",
    "\n",
    "    df_list.append(curr_group.sample(n=rand_num, random_state=rand_state)) # sample random rows of the group\n",
    "\n",
    "rand_df =  pd.concat(df_list, ignore_index=True)"
   ]
  },
  {
   "cell_type": "markdown",
   "id": "197fd1e9",
   "metadata": {},
   "source": [
    "### Now let's calculate the ECT for all leaves"
   ]
  },
  {
   "cell_type": "code",
   "execution_count": 230,
   "id": "d983939c-1587-4da3-889c-4b2b8e4018f0",
   "metadata": {},
   "outputs": [],
   "source": [
    "num_dirs = 5\n",
    "num_thresh = 5"
   ]
  },
  {
   "cell_type": "code",
   "execution_count": 231,
   "id": "c65fd724",
   "metadata": {},
   "outputs": [
    {
     "name": "stdout",
     "output_type": "stream",
     "text": [
      "0\n",
      "100\n",
      "200\n",
      "300\n",
      "400\n",
      "500\n",
      "600\n"
     ]
    }
   ],
   "source": [
    "mypath_output = 'example_data/ect_output/'\n",
    "\n",
    "for i in range(len(rand_df)):\n",
    "\n",
    "    if i%100==0:\n",
    "        print(i)\n",
    "\n",
    "    ####################\n",
    "    ### READ IN FILE ###\n",
    "    ####################\n",
    "    \n",
    "    curr_path = rand_df[\"full_path\"].iloc[i] # current path\n",
    "    leaf = np.load(curr_path) # get current leaf\n",
    "    group = rand_df[\"group\"].iloc[i] # current group\n",
    "    file = rand_df[\"file\"].iloc[i] # current group\n",
    "    \n",
    "    #####################\n",
    "    ### CALCULATE ECT ###\n",
    "    #####################\n",
    "\n",
    "    G = EmbeddedGraph() # initiate graph\n",
    "    G.add_cycle(leaf) # add the shape coordinates as a graph cycle\n",
    "    G.set_PCA_coordinates( center_type='min_max', scale_radius=1) # normalize the shape coordinates\n",
    "    \n",
    "    # initialize ECT\n",
    "    myect = ECT(num_dirs = num_dirs, num_thresh = num_thresh)\n",
    "\n",
    "    #calculate ECT\n",
    "    myect.calculateECT(G)\n",
    "\n",
    "    # The matrix is passed as an output above but is also saved internally. Get the saved matrix\n",
    "    M = myect.get_ECT()\n",
    "\n",
    "    ################\n",
    "    ### SAVE ECT ###\n",
    "    ################\n",
    "\n",
    "    # save the ECT matrix as a numpy file\n",
    "    # create the output file directory path\n",
    "    output_filedir = os.path.join(mypath_output + group + \"/\" + file)\n",
    "    Path(os.path.dirname(output_filedir)).mkdir(parents=True, exist_ok=True)\n",
    "    Path(os.path.dirname(output_filedir)).mkdir(parents=True, exist_ok=True)\n",
    "    np.save(output_filedir, M)\n",
    "\n"
   ]
  },
  {
   "cell_type": "markdown",
   "id": "ca620059",
   "metadata": {},
   "source": [
    "Now we have a saved dataset consisting of ECT matrices for the leaf outline dataset. We can train various models using these ECT matrices. Here, we show an example using a Convolutional Neural Network (CNN) to perform binary classification between the \"Cotton\" and \"Ivy\" classes."
   ]
  },
  {
   "cell_type": "markdown",
   "id": "06d55472",
   "metadata": {},
   "source": [
    "# Train a CNN model on the ECT images"
   ]
  },
  {
   "cell_type": "code",
   "execution_count": 232,
   "id": "742af9cb",
   "metadata": {},
   "outputs": [],
   "source": [
    "import torch # pip install torch\n",
    "import argparse\n",
    "import torch.nn as nn\n",
    "import torch.optim as optim\n",
    "from tqdm.auto import tqdm"
   ]
  },
  {
   "cell_type": "markdown",
   "id": "240f7a6b-e3f8-46db-b969-5843cec4aff1",
   "metadata": {
    "scrolled": true
   },
   "source": [
    "This is the CNN model class we will use for classification, defined in `models.py`. Within this class, we specify the kernel size parameter. \n",
    "<div>\n",
    "<img src=\"images/cnn_architecture.png\" width=\"1000\"/>\n",
    "</div>"
   ]
  },
  {
   "cell_type": "markdown",
   "id": "1e1c0fa9-c6bb-458a-bf20-7ce8d962720d",
   "metadata": {},
   "source": [
    "Also within `models.py`, the CNN class is defined using cylinder padding scheme for both of the convolution layers. To facilitate the illusion that the input images are cylindrical, we use padding defined by built in methods as part of the PyTorch package.\n",
    "For each of the sides, where we want the left edge to be identified with the right edge of the image, we use circular padding which uses copies of columns from the right side to pad the left and copies of the left side to pad the right. On the top and bottom of each image, we pad with zero-valued pixels, which is a standard choice for computer vision tasks.\n",
    "<div>\n",
    "<img src=\"images/cylinder_and_zero_padding.jpeg\" width=\"500\"/>\n",
    "</div>"
   ]
  },
  {
   "cell_type": "code",
   "execution_count": 233,
   "id": "c345b944-19c3-4809-8775-d290e6375164",
   "metadata": {
    "scrolled": true
   },
   "outputs": [],
   "source": [
    "from models import CNN"
   ]
  },
  {
   "cell_type": "markdown",
   "id": "b993aacc-4616-49c0-acef-4406c9b1c8b5",
   "metadata": {},
   "source": [
    "These functions allow us to define datasets and load them into PyTorch. The dataset classes and data loaders can be adjusted in `dataloaders.py`."
   ]
  },
  {
   "cell_type": "code",
   "execution_count": 234,
   "id": "716861ad-5f11-4681-8bca-400e9349d449",
   "metadata": {},
   "outputs": [],
   "source": [
    "from dataloaders import create_datasets, create_data_loaders\n",
    "from utils import save_model, save_plots, save_cf, SaveBestModel"
   ]
  },
  {
   "cell_type": "markdown",
   "id": "11c254bd-48ce-4723-b238-c388e08472b9",
   "metadata": {},
   "source": [
    "Here we define a few model training parameters: the number of epochs to train the model and the learning rate. We also use a batch size of 4 samples, which is defined in `dataloaders.py`."
   ]
  },
  {
   "cell_type": "code",
   "execution_count": 235,
   "id": "21aa421c-533d-4c2d-bf45-57255c049964",
   "metadata": {},
   "outputs": [],
   "source": [
    "NUM_EPOCHS = 50 # number of epochs to train the network for; type=int\n",
    "LEARNING_RATE = 1e-3 # learning rate for training; type=float"
   ]
  },
  {
   "cell_type": "code",
   "execution_count": 236,
   "id": "451ae34e",
   "metadata": {},
   "outputs": [
    {
     "name": "stdout",
     "output_type": "stream",
     "text": [
      "Computation device: cpu\n",
      "\n"
     ]
    }
   ],
   "source": [
    "# device\n",
    "device = ('cuda' if torch.cuda.is_available() else 'cpu')\n",
    "print(f\"Computation device: {device}\\n\")"
   ]
  },
  {
   "cell_type": "markdown",
   "id": "e805275f",
   "metadata": {},
   "source": [
    "### Load in the dataset and split into training and test datasets"
   ]
  },
  {
   "cell_type": "markdown",
   "id": "2f45e77c-8d98-46d6-8e92-025b81a865c0",
   "metadata": {},
   "source": [
    "Next, we build the training and test datasets as well as the dataloaders for each."
   ]
  },
  {
   "cell_type": "code",
   "execution_count": 237,
   "id": "dd859412-6ccd-4193-b8ef-526481001b98",
   "metadata": {},
   "outputs": [
    {
     "name": "stdout",
     "output_type": "stream",
     "text": [
      "['Apple', 'Passiflora', 'Ivy', 'Arabidopsis', 'Grass', 'Potato', 'Alstroemeria', 'Cotton', 'Viburnum', 'Grape', 'Brassica', 'Pepper', 'Tomato', 'Coleus']\n",
      "num_classes= 14\n",
      "ECT data; using only normalize, rotation transforms on training data\n"
     ]
    }
   ],
   "source": [
    "train_dataset, test_dataset = create_datasets()\n",
    "\n",
    "train_loader, test_loader = create_data_loaders(train_dataset, test_dataset)"
   ]
  },
  {
   "cell_type": "markdown",
   "id": "0ee3304a-f936-4723-bba6-58f74e398400",
   "metadata": {},
   "source": [
    "Now, show a few samples from the training dataset. The labels for this example batch are printed as the title of each, where 0 indicates Ivy and 1 indicates Cotton'"
   ]
  },
  {
   "cell_type": "code",
   "execution_count": 238,
   "id": "4f2c9abd-667c-4f41-8835-92f7b79ce0a1",
   "metadata": {},
   "outputs": [
    {
     "name": "stdout",
     "output_type": "stream",
     "text": [
      "The tensor shape of each batch in the training dataset is \n",
      "[batch_size, num_channels, num_directions, num_thresholds]: torch.Size([4, 1, 5, 5])\n"
     ]
    }
   ],
   "source": [
    "trainimages, trainlabels = next(iter(train_loader))\n",
    "print(f'The tensor shape of each batch in the training dataset is \\n[batch_size, num_channels, num_directions, num_thresholds]: {trainimages.shape}')"
   ]
  },
  {
   "cell_type": "code",
   "execution_count": 249,
   "id": "2e29bd26",
   "metadata": {},
   "outputs": [
    {
     "name": "stdout",
     "output_type": "stream",
     "text": [
      "training images torch.Size([4, 1, 5, 5])\n"
     ]
    },
    {
     "data": {
      "image/png": "[encoded data removed]",
      "text/plain": [
       "<Figure size 1000x400 with 4 Axes>"
      ]
     },
     "metadata": {},
     "output_type": "display_data"
    }
   ],
   "source": [
    "plt.style.use('default')\n",
    "fig, axes = plt.subplots(figsize=(10,4), ncols=4)\n",
    "print('training images', trainimages.shape)\n",
    "for i in range(4):\n",
    "    ax = axes[i]\n",
    "    ax.imshow(trainimages[i,0,:,:].T, cmap='viridis')\n",
    "    label = train_dataset.get_label(trainlabels[i])\n",
    "    ax.set_title(label)\n",
    "plt.show()"
   ]
  },
  {
   "cell_type": "markdown",
   "id": "630910b2-b3e3-4a9f-81f2-147db8976d49",
   "metadata": {},
   "source": [
    "Next, we define two functions: `train()` and `validate()`. These define the training scheme and keep track of the loss during training (and validation) as well as the model accuracy."
   ]
  },
  {
   "cell_type": "code",
   "execution_count": 240,
   "id": "e6e643f0-93b9-45c1-9691-1a623d33d36c",
   "metadata": {},
   "outputs": [],
   "source": [
    "def train(model, train_loader, optimizer, lossfcn):\n",
    "    model.train()\n",
    "    print('Training')\n",
    "    train_running_loss = 0.0\n",
    "    train_running_correct = 0\n",
    "    counter = 0\n",
    "    for i, data in tqdm(enumerate(train_loader), total=len(train_loader)):\n",
    "        counter += 1\n",
    "        image, labels = data\n",
    "        image = image.to(device)\n",
    "        labels = labels.to(device)\n",
    "        optimizer.zero_grad()\n",
    "        # forward pass\n",
    "        outputs = model(image)\n",
    "        # calculate the loss\n",
    "        loss = lossfcn(outputs, labels)\n",
    "        train_running_loss += loss.item()\n",
    "        # calculate the accuracy\n",
    "        _, preds = torch.max(outputs.data, 1)\n",
    "        train_running_correct += (preds == labels).sum().item()\n",
    "        # backpropagation\n",
    "        loss.backward()\n",
    "        # update the optimizer parameters\n",
    "        optimizer.step()\n",
    "    \n",
    "    # loss and accuracy for the complete epoch\n",
    "    epoch_loss = train_running_loss / counter\n",
    "    epoch_acc = 100. * (train_running_correct / len(train_loader.dataset))\n",
    "    return epoch_loss, epoch_acc"
   ]
  },
  {
   "cell_type": "code",
   "execution_count": 241,
   "id": "dd2bec90",
   "metadata": {},
   "outputs": [],
   "source": [
    "# function for validation\n",
    "def validate(model, valid_loader, lossfcn):\n",
    "    model.eval()\n",
    "    print('Validation')\n",
    "    valid_running_loss = 0.0\n",
    "    valid_running_correct = 0\n",
    "    counter = 0\n",
    "    with torch.no_grad():\n",
    "        outputs_list = []\n",
    "        labels_list = []\n",
    "        for i, data in tqdm(enumerate(valid_loader), total=len(valid_loader)):\n",
    "            counter += 1\n",
    "            \n",
    "            image, labels = data\n",
    "            image = image.to(device)\n",
    "            labels = labels.to(device)\n",
    "            # forward pass\n",
    "            outputs = model(image)\n",
    "            outputs_list.append(outputs)\n",
    "            labels_list.append(labels)\n",
    "            # calculate the loss\n",
    "            loss = lossfcn(outputs, labels)\n",
    "            valid_running_loss += loss.item()\n",
    "            # calculate the accuracy\n",
    "            _, preds = torch.max(outputs.data, 1)\n",
    "            valid_running_correct += (preds == labels).sum().item()\n",
    "        \n",
    "    # loss and accuracy for the complete epoch\n",
    "    epoch_loss = valid_running_loss / counter\n",
    "    epoch_acc = 100. * (valid_running_correct / len(valid_loader.dataset))\n",
    "\n",
    "    return epoch_loss, epoch_acc"
   ]
  },
  {
   "cell_type": "markdown",
   "id": "93ca53e6-91d0-4490-8776-b4e4f8c5661d",
   "metadata": {},
   "source": [
    "Here, we specify the model to be used for training and print out a summary of the layers in the model."
   ]
  },
  {
   "cell_type": "code",
   "execution_count": 242,
   "id": "95c07773-238b-495b-93e0-468245b6fed4",
   "metadata": {},
   "outputs": [
    {
     "name": "stdout",
     "output_type": "stream",
     "text": [
      "CNN(\n",
      "  (conv1): Conv2d(1, 10, kernel_size=(3, 3), stride=(1, 1))\n",
      "  (conv2): Conv2d(10, 20, kernel_size=(3, 3), stride=(1, 1))\n",
      "  (conv2_drop): Dropout2d(p=0.5, inplace=False)\n",
      "  (fc1): Linear(in_features=20, out_features=1024, bias=True)\n",
      "  (fc2): Linear(in_features=1024, out_features=14, bias=True)\n",
      ")\n"
     ]
    }
   ],
   "source": [
    "model = CNN(num_classes=train_dataset.num_classes, num_channels=trainimages.shape[1],input_resolution=(num_dirs,num_thresh)).to(device)\n",
    "print(model)"
   ]
  },
  {
   "cell_type": "markdown",
   "id": "c2d19a00-dbec-4e3d-aff5-d0917e758c91",
   "metadata": {},
   "source": [
    "We can also print out the total number of parameters and trainable parameters for the model for reference."
   ]
  },
  {
   "cell_type": "code",
   "execution_count": 243,
   "id": "8d28fcd0-ba59-4e37-9e65-6e8f43ccd652",
   "metadata": {},
   "outputs": [
    {
     "name": "stdout",
     "output_type": "stream",
     "text": [
      "37,774 total parameters.\n",
      "37,774 training parameters.\n",
      "\n"
     ]
    }
   ],
   "source": [
    "total_params = sum(p.numel() for p in model.parameters())\n",
    "print(f\"{total_params:,} total parameters.\")\n",
    "total_trainable_params = sum(\n",
    "    p.numel() for p in model.parameters() if p.requires_grad)\n",
    "print(f\"{total_trainable_params:,} training parameters.\\n\")"
   ]
  },
  {
   "cell_type": "markdown",
   "id": "595ae904-6bc7-4f5c-b649-56b4b0d13967",
   "metadata": {},
   "source": [
    "Next, we specifify the optimizer and loss function to be used for training. In this case we use the Adam optimizer built into PyTorch, which uses a gradient descent algorithm. We use a cross entropy loss function built into PyTorch, which computes the difference between two probability distributions and outputs a score (between 0 and 1, where 0 is a perfect score) summarizing the average difference between the predicted and actual values during training."
   ]
  },
  {
   "cell_type": "code",
   "execution_count": 244,
   "id": "f5c7ba6c-dc9b-47d0-b3cf-3400e328617c",
   "metadata": {},
   "outputs": [],
   "source": [
    "optimizer = optim.Adam(model.parameters(), lr=LEARNING_RATE, weight_decay=1e-3)\n",
    "# loss function\n",
    "lossfcn = nn.CrossEntropyLoss()\n",
    "# initialize SaveBestModel class\n",
    "save_best_model = SaveBestModel()"
   ]
  },
  {
   "cell_type": "markdown",
   "id": "ff96b331-fc7a-4ec6-96ba-c87e276c986c",
   "metadata": {},
   "source": [
    "Now we actually train the model using our previously defined `train()` function! During training, we keep track of overall loss and accuracy values so that we can plot the behavior of the model throughout training."
   ]
  },
  {
   "cell_type": "code",
   "execution_count": 245,
   "id": "0a6e769f-94ce-4128-a33a-bbf5b60fd948",
   "metadata": {},
   "outputs": [
    {
     "name": "stdout",
     "output_type": "stream",
     "text": [
      "[INFO]: Epoch 1 of 50\n",
      "Training\n"
     ]
    },
    {
     "data": {
      "application/vnd.jupyter.widget-view+json": {
       "model_id": "c46f0baa208240719c9ed1e7813e497a",
       "version_major": 2,
       "version_minor": 0
      },
      "text/plain": [
       "  0%|          | 0/140 [00:00<?, ?it/s]"
      ]
     },
     "metadata": {},
     "output_type": "display_data"
    },
    {
     "name": "stdout",
     "output_type": "stream",
     "text": [
      "Validation\n"
     ]
    },
    {
     "data": {
      "application/vnd.jupyter.widget-view+json": {
       "model_id": "5a28b9b2421c45d0bce23b22796398c0",
       "version_major": 2,
       "version_minor": 0
      },
      "text/plain": [
       "  0%|          | 0/35 [00:00<?, ?it/s]"
      ]
     },
     "metadata": {},
     "output_type": "display_data"
    },
    {
     "name": "stdout",
     "output_type": "stream",
     "text": [
      "Training loss: 8.102, training acc: 8.929\n",
      "Validation loss: 2.682, validation acc: 4.286\n",
      "\n",
      "Best validation loss: 2.6824876376560756\n",
      "\n",
      "Saving best model for epoch: 1\n",
      "\n",
      "--------------------------------------------------\n",
      "[INFO]: Epoch 2 of 50\n",
      "Training\n"
     ]
    },
    {
     "data": {
      "application/vnd.jupyter.widget-view+json": {
       "model_id": "3b5bba99524f464c8acafc3408df8e68",
       "version_major": 2,
       "version_minor": 0
      },
      "text/plain": [
       "  0%|          | 0/140 [00:00<?, ?it/s]"
      ]
     },
     "metadata": {},
     "output_type": "display_data"
    },
    {
     "name": "stdout",
     "output_type": "stream",
     "text": [
      "Validation\n"
     ]
    },
    {
     "data": {
      "application/vnd.jupyter.widget-view+json": {
       "model_id": "69d8b9697f9243188cc3b46c67f1adbf",
       "version_major": 2,
       "version_minor": 0
      },
      "text/plain": [
       "  0%|          | 0/35 [00:00<?, ?it/s]"
      ]
     },
     "metadata": {},
     "output_type": "display_data"
    },
    {
     "name": "stdout",
     "output_type": "stream",
     "text": [
      "Training loss: 2.664, training acc: 7.679\n",
      "Validation loss: 2.694, validation acc: 4.286\n",
      "--------------------------------------------------\n",
      "[INFO]: Epoch 3 of 50\n",
      "Training\n"
     ]
    },
    {
     "data": {
      "application/vnd.jupyter.widget-view+json": {
       "model_id": "f137229e7e254a8097f236e9c596692b",
       "version_major": 2,
       "version_minor": 0
      },
      "text/plain": [
       "  0%|          | 0/140 [00:00<?, ?it/s]"
      ]
     },
     "metadata": {},
     "output_type": "display_data"
    },
    {
     "name": "stdout",
     "output_type": "stream",
     "text": [
      "Validation\n"
     ]
    },
    {
     "data": {
      "application/vnd.jupyter.widget-view+json": {
       "model_id": "cfe6c28500f24fbba6de01c3cec52e72",
       "version_major": 2,
       "version_minor": 0
      },
      "text/plain": [
       "  0%|          | 0/35 [00:00<?, ?it/s]"
      ]
     },
     "metadata": {},
     "output_type": "display_data"
    },
    {
     "name": "stdout",
     "output_type": "stream",
     "text": [
      "Training loss: 2.645, training acc: 6.607\n",
      "Validation loss: 2.658, validation acc: 5.000\n",
      "\n",
      "Best validation loss: 2.6575966971261162\n",
      "\n",
      "Saving best model for epoch: 3\n",
      "\n",
      "--------------------------------------------------\n",
      "[INFO]: Epoch 4 of 50\n",
      "Training\n"
     ]
    },
    {
     "data": {
      "application/vnd.jupyter.widget-view+json": {
       "model_id": "a36adf23013348749f26cedbd867bb55",
       "version_major": 2,
       "version_minor": 0
      },
      "text/plain": [
       "  0%|          | 0/140 [00:00<?, ?it/s]"
      ]
     },
     "metadata": {},
     "output_type": "display_data"
    },
    {
     "name": "stdout",
     "output_type": "stream",
     "text": [
      "Validation\n"
     ]
    },
    {
     "data": {
      "application/vnd.jupyter.widget-view+json": {
       "model_id": "bf7bd8ab56094d0fa879c0ddc17ec444",
       "version_major": 2,
       "version_minor": 0
      },
      "text/plain": [
       "  0%|          | 0/35 [00:00<?, ?it/s]"
      ]
     },
     "metadata": {},
     "output_type": "display_data"
    },
    {
     "name": "stdout",
     "output_type": "stream",
     "text": [
      "Training loss: 2.650, training acc: 6.786\n",
      "Validation loss: 2.659, validation acc: 5.000\n",
      "--------------------------------------------------\n",
      "[INFO]: Epoch 5 of 50\n",
      "Training\n"
     ]
    },
    {
     "data": {
      "application/vnd.jupyter.widget-view+json": {
       "model_id": "215665ff7df049e1bfc8eefe80c699c4",
       "version_major": 2,
       "version_minor": 0
      },
      "text/plain": [
       "  0%|          | 0/140 [00:00<?, ?it/s]"
      ]
     },
     "metadata": {},
     "output_type": "display_data"
    },
    {
     "name": "stdout",
     "output_type": "stream",
     "text": [
      "Validation\n"
     ]
    },
    {
     "data": {
      "application/vnd.jupyter.widget-view+json": {
       "model_id": "bf5a6a8558f740c2b0c100c6aa9235c8",
       "version_major": 2,
       "version_minor": 0
      },
      "text/plain": [
       "  0%|          | 0/35 [00:00<?, ?it/s]"
      ]
     },
     "metadata": {},
     "output_type": "display_data"
    },
    {
     "name": "stdout",
     "output_type": "stream",
     "text": [
      "Training loss: 2.644, training acc: 5.357\n",
      "Validation loss: 2.655, validation acc: 4.286\n",
      "\n",
      "Best validation loss: 2.6549134254455566\n",
      "\n",
      "Saving best model for epoch: 5\n",
      "\n",
      "--------------------------------------------------\n",
      "[INFO]: Epoch 6 of 50\n",
      "Training\n"
     ]
    },
    {
     "data": {
      "application/vnd.jupyter.widget-view+json": {
       "model_id": "58524ad538344845bd3f80f925a2d4ed",
       "version_major": 2,
       "version_minor": 0
      },
      "text/plain": [
       "  0%|          | 0/140 [00:00<?, ?it/s]"
      ]
     },
     "metadata": {},
     "output_type": "display_data"
    },
    {
     "name": "stdout",
     "output_type": "stream",
     "text": [
      "Validation\n"
     ]
    },
    {
     "data": {
      "application/vnd.jupyter.widget-view+json": {
       "model_id": "6b394aad99eb430caddf5cb5a23c6645",
       "version_major": 2,
       "version_minor": 0
      },
      "text/plain": [
       "  0%|          | 0/35 [00:00<?, ?it/s]"
      ]
     },
     "metadata": {},
     "output_type": "display_data"
    },
    {
     "name": "stdout",
     "output_type": "stream",
     "text": [
      "Training loss: 2.642, training acc: 6.607\n",
      "Validation loss: 2.674, validation acc: 7.857\n",
      "--------------------------------------------------\n",
      "[INFO]: Epoch 7 of 50\n",
      "Training\n"
     ]
    },
    {
     "data": {
      "application/vnd.jupyter.widget-view+json": {
       "model_id": "5cdd5509d8e24b30925bc41305e81e86",
       "version_major": 2,
       "version_minor": 0
      },
      "text/plain": [
       "  0%|          | 0/140 [00:00<?, ?it/s]"
      ]
     },
     "metadata": {},
     "output_type": "display_data"
    },
    {
     "name": "stdout",
     "output_type": "stream",
     "text": [
      "Validation\n"
     ]
    },
    {
     "data": {
      "application/vnd.jupyter.widget-view+json": {
       "model_id": "ef24d271b8894a74bae948a0a9994052",
       "version_major": 2,
       "version_minor": 0
      },
      "text/plain": [
       "  0%|          | 0/35 [00:00<?, ?it/s]"
      ]
     },
     "metadata": {},
     "output_type": "display_data"
    },
    {
     "name": "stdout",
     "output_type": "stream",
     "text": [
      "Training loss: 2.645, training acc: 6.071\n",
      "Validation loss: 2.659, validation acc: 4.286\n",
      "--------------------------------------------------\n",
      "[INFO]: Epoch 8 of 50\n",
      "Training\n"
     ]
    },
    {
     "data": {
      "application/vnd.jupyter.widget-view+json": {
       "model_id": "2715c9167177483c8e70cfc5e9fc2058",
       "version_major": 2,
       "version_minor": 0
      },
      "text/plain": [
       "  0%|          | 0/140 [00:00<?, ?it/s]"
      ]
     },
     "metadata": {},
     "output_type": "display_data"
    },
    {
     "name": "stdout",
     "output_type": "stream",
     "text": [
      "Validation\n"
     ]
    },
    {
     "data": {
      "application/vnd.jupyter.widget-view+json": {
       "model_id": "8d1ceea8ecaf4ac7a1af21066afe6062",
       "version_major": 2,
       "version_minor": 0
      },
      "text/plain": [
       "  0%|          | 0/35 [00:00<?, ?it/s]"
      ]
     },
     "metadata": {},
     "output_type": "display_data"
    },
    {
     "name": "stdout",
     "output_type": "stream",
     "text": [
      "Training loss: 2.653, training acc: 7.679\n",
      "Validation loss: 2.670, validation acc: 5.000\n",
      "--------------------------------------------------\n",
      "[INFO]: Epoch 9 of 50\n",
      "Training\n"
     ]
    },
    {
     "data": {
      "application/vnd.jupyter.widget-view+json": {
       "model_id": "834ace1b604642f089bba83b6773fc89",
       "version_major": 2,
       "version_minor": 0
      },
      "text/plain": [
       "  0%|          | 0/140 [00:00<?, ?it/s]"
      ]
     },
     "metadata": {},
     "output_type": "display_data"
    },
    {
     "name": "stdout",
     "output_type": "stream",
     "text": [
      "Validation\n"
     ]
    },
    {
     "data": {
      "application/vnd.jupyter.widget-view+json": {
       "model_id": "472b405cba6e44aaa1217016e84895cd",
       "version_major": 2,
       "version_minor": 0
      },
      "text/plain": [
       "  0%|          | 0/35 [00:00<?, ?it/s]"
      ]
     },
     "metadata": {},
     "output_type": "display_data"
    },
    {
     "name": "stdout",
     "output_type": "stream",
     "text": [
      "Training loss: 2.641, training acc: 7.500\n",
      "Validation loss: 2.661, validation acc: 4.286\n",
      "--------------------------------------------------\n",
      "[INFO]: Epoch 10 of 50\n",
      "Training\n"
     ]
    },
    {
     "data": {
      "application/vnd.jupyter.widget-view+json": {
       "model_id": "2d0ac62222d44cf99e5a2ee675f6e9e5",
       "version_major": 2,
       "version_minor": 0
      },
      "text/plain": [
       "  0%|          | 0/140 [00:00<?, ?it/s]"
      ]
     },
     "metadata": {},
     "output_type": "display_data"
    },
    {
     "name": "stdout",
     "output_type": "stream",
     "text": [
      "Validation\n"
     ]
    },
    {
     "data": {
      "application/vnd.jupyter.widget-view+json": {
       "model_id": "6e2bae31cebc40988882d56f968abd0a",
       "version_major": 2,
       "version_minor": 0
      },
      "text/plain": [
       "  0%|          | 0/35 [00:00<?, ?it/s]"
      ]
     },
     "metadata": {},
     "output_type": "display_data"
    },
    {
     "name": "stdout",
     "output_type": "stream",
     "text": [
      "Training loss: 2.638, training acc: 6.429\n",
      "Validation loss: 2.658, validation acc: 4.286\n",
      "--------------------------------------------------\n",
      "[INFO]: Epoch 11 of 50\n",
      "Training\n"
     ]
    },
    {
     "data": {
      "application/vnd.jupyter.widget-view+json": {
       "model_id": "4066a0014fd948fd9ac05c2848fae50c",
       "version_major": 2,
       "version_minor": 0
      },
      "text/plain": [
       "  0%|          | 0/140 [00:00<?, ?it/s]"
      ]
     },
     "metadata": {},
     "output_type": "display_data"
    },
    {
     "name": "stdout",
     "output_type": "stream",
     "text": [
      "Validation\n"
     ]
    },
    {
     "data": {
      "application/vnd.jupyter.widget-view+json": {
       "model_id": "b286b78a00f644d99f45f5e5b80ff72c",
       "version_major": 2,
       "version_minor": 0
      },
      "text/plain": [
       "  0%|          | 0/35 [00:00<?, ?it/s]"
      ]
     },
     "metadata": {},
     "output_type": "display_data"
    },
    {
     "name": "stdout",
     "output_type": "stream",
     "text": [
      "Training loss: 2.639, training acc: 5.357\n",
      "Validation loss: 2.657, validation acc: 4.286\n",
      "--------------------------------------------------\n",
      "[INFO]: Epoch 12 of 50\n",
      "Training\n"
     ]
    },
    {
     "data": {
      "application/vnd.jupyter.widget-view+json": {
       "model_id": "cb0d0c894b414dc9a672bcd3d80357a3",
       "version_major": 2,
       "version_minor": 0
      },
      "text/plain": [
       "  0%|          | 0/140 [00:00<?, ?it/s]"
      ]
     },
     "metadata": {},
     "output_type": "display_data"
    },
    {
     "name": "stdout",
     "output_type": "stream",
     "text": [
      "Validation\n"
     ]
    },
    {
     "data": {
      "application/vnd.jupyter.widget-view+json": {
       "model_id": "dacdd2f4ff644853bacb5e1ae08d4de5",
       "version_major": 2,
       "version_minor": 0
      },
      "text/plain": [
       "  0%|          | 0/35 [00:00<?, ?it/s]"
      ]
     },
     "metadata": {},
     "output_type": "display_data"
    },
    {
     "name": "stdout",
     "output_type": "stream",
     "text": [
      "Training loss: 2.642, training acc: 5.893\n",
      "Validation loss: 2.657, validation acc: 4.286\n",
      "--------------------------------------------------\n",
      "[INFO]: Epoch 13 of 50\n",
      "Training\n"
     ]
    },
    {
     "data": {
      "application/vnd.jupyter.widget-view+json": {
       "model_id": "c64a651aed384b8386f8c1e655581030",
       "version_major": 2,
       "version_minor": 0
      },
      "text/plain": [
       "  0%|          | 0/140 [00:00<?, ?it/s]"
      ]
     },
     "metadata": {},
     "output_type": "display_data"
    },
    {
     "name": "stdout",
     "output_type": "stream",
     "text": [
      "Validation\n"
     ]
    },
    {
     "data": {
      "application/vnd.jupyter.widget-view+json": {
       "model_id": "40b539c1a15c4f2d8bd6ae32600b910f",
       "version_major": 2,
       "version_minor": 0
      },
      "text/plain": [
       "  0%|          | 0/35 [00:00<?, ?it/s]"
      ]
     },
     "metadata": {},
     "output_type": "display_data"
    },
    {
     "name": "stdout",
     "output_type": "stream",
     "text": [
      "Training loss: 2.641, training acc: 5.536\n",
      "Validation loss: 2.659, validation acc: 4.286\n",
      "--------------------------------------------------\n",
      "[INFO]: Epoch 14 of 50\n",
      "Training\n"
     ]
    },
    {
     "data": {
      "application/vnd.jupyter.widget-view+json": {
       "model_id": "4e34c635c8604fea8746f46688db9038",
       "version_major": 2,
       "version_minor": 0
      },
      "text/plain": [
       "  0%|          | 0/140 [00:00<?, ?it/s]"
      ]
     },
     "metadata": {},
     "output_type": "display_data"
    },
    {
     "name": "stdout",
     "output_type": "stream",
     "text": [
      "Validation\n"
     ]
    },
    {
     "data": {
      "application/vnd.jupyter.widget-view+json": {
       "model_id": "cb3151e4ce9f4336906fb482c4549aea",
       "version_major": 2,
       "version_minor": 0
      },
      "text/plain": [
       "  0%|          | 0/35 [00:00<?, ?it/s]"
      ]
     },
     "metadata": {},
     "output_type": "display_data"
    },
    {
     "name": "stdout",
     "output_type": "stream",
     "text": [
      "Training loss: 2.640, training acc: 7.857\n",
      "Validation loss: 2.659, validation acc: 4.286\n",
      "--------------------------------------------------\n",
      "[INFO]: Epoch 15 of 50\n",
      "Training\n"
     ]
    },
    {
     "data": {
      "application/vnd.jupyter.widget-view+json": {
       "model_id": "95e834aa79914c9683ad9d29cdf78609",
       "version_major": 2,
       "version_minor": 0
      },
      "text/plain": [
       "  0%|          | 0/140 [00:00<?, ?it/s]"
      ]
     },
     "metadata": {},
     "output_type": "display_data"
    },
    {
     "name": "stdout",
     "output_type": "stream",
     "text": [
      "Validation\n"
     ]
    },
    {
     "data": {
      "application/vnd.jupyter.widget-view+json": {
       "model_id": "8b6adb12a8474cb0850439e2366caf48",
       "version_major": 2,
       "version_minor": 0
      },
      "text/plain": [
       "  0%|          | 0/35 [00:00<?, ?it/s]"
      ]
     },
     "metadata": {},
     "output_type": "display_data"
    },
    {
     "name": "stdout",
     "output_type": "stream",
     "text": [
      "Training loss: 2.641, training acc: 6.964\n",
      "Validation loss: 2.660, validation acc: 4.286\n",
      "--------------------------------------------------\n",
      "[INFO]: Epoch 16 of 50\n",
      "Training\n"
     ]
    },
    {
     "data": {
      "application/vnd.jupyter.widget-view+json": {
       "model_id": "15bb370edc4f42e5ae20500c97270f13",
       "version_major": 2,
       "version_minor": 0
      },
      "text/plain": [
       "  0%|          | 0/140 [00:00<?, ?it/s]"
      ]
     },
     "metadata": {},
     "output_type": "display_data"
    },
    {
     "name": "stdout",
     "output_type": "stream",
     "text": [
      "Validation\n"
     ]
    },
    {
     "data": {
      "application/vnd.jupyter.widget-view+json": {
       "model_id": "6dabb1cb98f649ea8d7f89888be407cf",
       "version_major": 2,
       "version_minor": 0
      },
      "text/plain": [
       "  0%|          | 0/35 [00:00<?, ?it/s]"
      ]
     },
     "metadata": {},
     "output_type": "display_data"
    },
    {
     "name": "stdout",
     "output_type": "stream",
     "text": [
      "Training loss: 2.641, training acc: 5.893\n",
      "Validation loss: 2.658, validation acc: 4.286\n",
      "--------------------------------------------------\n",
      "[INFO]: Epoch 17 of 50\n",
      "Training\n"
     ]
    },
    {
     "data": {
      "application/vnd.jupyter.widget-view+json": {
       "model_id": "035b83cd0f634a08b1cc0bbe4de40da4",
       "version_major": 2,
       "version_minor": 0
      },
      "text/plain": [
       "  0%|          | 0/140 [00:00<?, ?it/s]"
      ]
     },
     "metadata": {},
     "output_type": "display_data"
    },
    {
     "name": "stdout",
     "output_type": "stream",
     "text": [
      "Validation\n"
     ]
    },
    {
     "data": {
      "application/vnd.jupyter.widget-view+json": {
       "model_id": "c3feb3b8c28d46369a5f7dc7dcfdff81",
       "version_major": 2,
       "version_minor": 0
      },
      "text/plain": [
       "  0%|          | 0/35 [00:00<?, ?it/s]"
      ]
     },
     "metadata": {},
     "output_type": "display_data"
    },
    {
     "name": "stdout",
     "output_type": "stream",
     "text": [
      "Training loss: 2.641, training acc: 7.143\n",
      "Validation loss: 2.658, validation acc: 4.286\n",
      "--------------------------------------------------\n",
      "[INFO]: Epoch 18 of 50\n",
      "Training\n"
     ]
    },
    {
     "data": {
      "application/vnd.jupyter.widget-view+json": {
       "model_id": "618b6b6379614dcd9fa46e60402244f7",
       "version_major": 2,
       "version_minor": 0
      },
      "text/plain": [
       "  0%|          | 0/140 [00:00<?, ?it/s]"
      ]
     },
     "metadata": {},
     "output_type": "display_data"
    },
    {
     "name": "stdout",
     "output_type": "stream",
     "text": [
      "Validation\n"
     ]
    },
    {
     "data": {
      "application/vnd.jupyter.widget-view+json": {
       "model_id": "edcd4b1f2d444a1f8972a868579ac377",
       "version_major": 2,
       "version_minor": 0
      },
      "text/plain": [
       "  0%|          | 0/35 [00:00<?, ?it/s]"
      ]
     },
     "metadata": {},
     "output_type": "display_data"
    },
    {
     "name": "stdout",
     "output_type": "stream",
     "text": [
      "Training loss: 2.641, training acc: 5.893\n",
      "Validation loss: 2.656, validation acc: 4.286\n",
      "--------------------------------------------------\n",
      "[INFO]: Epoch 19 of 50\n",
      "Training\n"
     ]
    },
    {
     "data": {
      "application/vnd.jupyter.widget-view+json": {
       "model_id": "eddeb8d20c244bd7b5863c896c2bc8bc",
       "version_major": 2,
       "version_minor": 0
      },
      "text/plain": [
       "  0%|          | 0/140 [00:00<?, ?it/s]"
      ]
     },
     "metadata": {},
     "output_type": "display_data"
    },
    {
     "name": "stdout",
     "output_type": "stream",
     "text": [
      "Validation\n"
     ]
    },
    {
     "data": {
      "application/vnd.jupyter.widget-view+json": {
       "model_id": "2b6cc1320a5646eaafa602b91b8a3648",
       "version_major": 2,
       "version_minor": 0
      },
      "text/plain": [
       "  0%|          | 0/35 [00:00<?, ?it/s]"
      ]
     },
     "metadata": {},
     "output_type": "display_data"
    },
    {
     "name": "stdout",
     "output_type": "stream",
     "text": [
      "Training loss: 2.641, training acc: 6.071\n",
      "Validation loss: 2.657, validation acc: 4.286\n",
      "--------------------------------------------------\n",
      "[INFO]: Epoch 20 of 50\n",
      "Training\n"
     ]
    },
    {
     "data": {
      "application/vnd.jupyter.widget-view+json": {
       "model_id": "217ada910cbb43f081bf349ddb195d9f",
       "version_major": 2,
       "version_minor": 0
      },
      "text/plain": [
       "  0%|          | 0/140 [00:00<?, ?it/s]"
      ]
     },
     "metadata": {},
     "output_type": "display_data"
    },
    {
     "name": "stdout",
     "output_type": "stream",
     "text": [
      "Validation\n"
     ]
    },
    {
     "data": {
      "application/vnd.jupyter.widget-view+json": {
       "model_id": "1079837552b54191b4c3e9d2cc72cc03",
       "version_major": 2,
       "version_minor": 0
      },
      "text/plain": [
       "  0%|          | 0/35 [00:00<?, ?it/s]"
      ]
     },
     "metadata": {},
     "output_type": "display_data"
    },
    {
     "name": "stdout",
     "output_type": "stream",
     "text": [
      "Training loss: 2.642, training acc: 6.786\n",
      "Validation loss: 2.657, validation acc: 4.286\n",
      "--------------------------------------------------\n",
      "[INFO]: Epoch 21 of 50\n",
      "Training\n"
     ]
    },
    {
     "data": {
      "application/vnd.jupyter.widget-view+json": {
       "model_id": "907be3166e744526a6c58a08a281db83",
       "version_major": 2,
       "version_minor": 0
      },
      "text/plain": [
       "  0%|          | 0/140 [00:00<?, ?it/s]"
      ]
     },
     "metadata": {},
     "output_type": "display_data"
    },
    {
     "name": "stdout",
     "output_type": "stream",
     "text": [
      "Validation\n"
     ]
    },
    {
     "data": {
      "application/vnd.jupyter.widget-view+json": {
       "model_id": "bb3e9f2c6d8944a6be39ae61e6001f3c",
       "version_major": 2,
       "version_minor": 0
      },
      "text/plain": [
       "  0%|          | 0/35 [00:00<?, ?it/s]"
      ]
     },
     "metadata": {},
     "output_type": "display_data"
    },
    {
     "name": "stdout",
     "output_type": "stream",
     "text": [
      "Training loss: 2.638, training acc: 7.143\n",
      "Validation loss: 2.658, validation acc: 4.286\n",
      "--------------------------------------------------\n",
      "[INFO]: Epoch 22 of 50\n",
      "Training\n"
     ]
    },
    {
     "data": {
      "application/vnd.jupyter.widget-view+json": {
       "model_id": "9e2b82f83406459d95356c3eeae40c64",
       "version_major": 2,
       "version_minor": 0
      },
      "text/plain": [
       "  0%|          | 0/140 [00:00<?, ?it/s]"
      ]
     },
     "metadata": {},
     "output_type": "display_data"
    },
    {
     "name": "stdout",
     "output_type": "stream",
     "text": [
      "Validation\n"
     ]
    },
    {
     "data": {
      "application/vnd.jupyter.widget-view+json": {
       "model_id": "f8c88147f8164fda8de3b4ca64d4164e",
       "version_major": 2,
       "version_minor": 0
      },
      "text/plain": [
       "  0%|          | 0/35 [00:00<?, ?it/s]"
      ]
     },
     "metadata": {},
     "output_type": "display_data"
    },
    {
     "name": "stdout",
     "output_type": "stream",
     "text": [
      "Training loss: 2.655, training acc: 6.071\n",
      "Validation loss: 2.656, validation acc: 4.286\n",
      "--------------------------------------------------\n",
      "[INFO]: Epoch 23 of 50\n",
      "Training\n"
     ]
    },
    {
     "data": {
      "application/vnd.jupyter.widget-view+json": {
       "model_id": "37c19f5851624930bff1b0ede6cb129b",
       "version_major": 2,
       "version_minor": 0
      },
      "text/plain": [
       "  0%|          | 0/140 [00:00<?, ?it/s]"
      ]
     },
     "metadata": {},
     "output_type": "display_data"
    },
    {
     "name": "stdout",
     "output_type": "stream",
     "text": [
      "Validation\n"
     ]
    },
    {
     "data": {
      "application/vnd.jupyter.widget-view+json": {
       "model_id": "0afb541b77ae4eceacc4851e5ad983cb",
       "version_major": 2,
       "version_minor": 0
      },
      "text/plain": [
       "  0%|          | 0/35 [00:00<?, ?it/s]"
      ]
     },
     "metadata": {},
     "output_type": "display_data"
    },
    {
     "name": "stdout",
     "output_type": "stream",
     "text": [
      "Training loss: 2.641, training acc: 6.786\n",
      "Validation loss: 2.656, validation acc: 4.286\n",
      "--------------------------------------------------\n",
      "[INFO]: Epoch 24 of 50\n",
      "Training\n"
     ]
    },
    {
     "data": {
      "application/vnd.jupyter.widget-view+json": {
       "model_id": "dc557592cf084384b90d8728533ea8fa",
       "version_major": 2,
       "version_minor": 0
      },
      "text/plain": [
       "  0%|          | 0/140 [00:00<?, ?it/s]"
      ]
     },
     "metadata": {},
     "output_type": "display_data"
    },
    {
     "name": "stdout",
     "output_type": "stream",
     "text": [
      "Validation\n"
     ]
    },
    {
     "data": {
      "application/vnd.jupyter.widget-view+json": {
       "model_id": "fc3bdb082ea24ab290d3cdc173a873cc",
       "version_major": 2,
       "version_minor": 0
      },
      "text/plain": [
       "  0%|          | 0/35 [00:00<?, ?it/s]"
      ]
     },
     "metadata": {},
     "output_type": "display_data"
    },
    {
     "name": "stdout",
     "output_type": "stream",
     "text": [
      "Training loss: 2.641, training acc: 7.857\n",
      "Validation loss: 2.656, validation acc: 4.286\n",
      "--------------------------------------------------\n",
      "[INFO]: Epoch 25 of 50\n",
      "Training\n"
     ]
    },
    {
     "data": {
      "application/vnd.jupyter.widget-view+json": {
       "model_id": "b4c80c3f56dd42f1aa20c54326914309",
       "version_major": 2,
       "version_minor": 0
      },
      "text/plain": [
       "  0%|          | 0/140 [00:00<?, ?it/s]"
      ]
     },
     "metadata": {},
     "output_type": "display_data"
    },
    {
     "name": "stdout",
     "output_type": "stream",
     "text": [
      "Validation\n"
     ]
    },
    {
     "data": {
      "application/vnd.jupyter.widget-view+json": {
       "model_id": "9b47b83948204d26b0c0f75740439fb3",
       "version_major": 2,
       "version_minor": 0
      },
      "text/plain": [
       "  0%|          | 0/35 [00:00<?, ?it/s]"
      ]
     },
     "metadata": {},
     "output_type": "display_data"
    },
    {
     "name": "stdout",
     "output_type": "stream",
     "text": [
      "Training loss: 2.640, training acc: 7.143\n",
      "Validation loss: 2.656, validation acc: 4.286\n",
      "--------------------------------------------------\n",
      "[INFO]: Epoch 26 of 50\n",
      "Training\n"
     ]
    },
    {
     "data": {
      "application/vnd.jupyter.widget-view+json": {
       "model_id": "e9b6cc77448b494b998ebe8c0c6ab136",
       "version_major": 2,
       "version_minor": 0
      },
      "text/plain": [
       "  0%|          | 0/140 [00:00<?, ?it/s]"
      ]
     },
     "metadata": {},
     "output_type": "display_data"
    },
    {
     "name": "stdout",
     "output_type": "stream",
     "text": [
      "Validation\n"
     ]
    },
    {
     "data": {
      "application/vnd.jupyter.widget-view+json": {
       "model_id": "0c25f1f0894e42ef86ad5266a8c13a0b",
       "version_major": 2,
       "version_minor": 0
      },
      "text/plain": [
       "  0%|          | 0/35 [00:00<?, ?it/s]"
      ]
     },
     "metadata": {},
     "output_type": "display_data"
    },
    {
     "name": "stdout",
     "output_type": "stream",
     "text": [
      "Training loss: 2.641, training acc: 5.536\n",
      "Validation loss: 2.657, validation acc: 4.286\n",
      "--------------------------------------------------\n",
      "[INFO]: Epoch 27 of 50\n",
      "Training\n"
     ]
    },
    {
     "data": {
      "application/vnd.jupyter.widget-view+json": {
       "model_id": "6ac478dc2a944cc8a7f3ed68cbd6f1ef",
       "version_major": 2,
       "version_minor": 0
      },
      "text/plain": [
       "  0%|          | 0/140 [00:00<?, ?it/s]"
      ]
     },
     "metadata": {},
     "output_type": "display_data"
    },
    {
     "name": "stdout",
     "output_type": "stream",
     "text": [
      "Validation\n"
     ]
    },
    {
     "data": {
      "application/vnd.jupyter.widget-view+json": {
       "model_id": "d5a52b9ba445450bac8ee66bd121d75e",
       "version_major": 2,
       "version_minor": 0
      },
      "text/plain": [
       "  0%|          | 0/35 [00:00<?, ?it/s]"
      ]
     },
     "metadata": {},
     "output_type": "display_data"
    },
    {
     "name": "stdout",
     "output_type": "stream",
     "text": [
      "Training loss: 2.640, training acc: 6.250\n",
      "Validation loss: 2.658, validation acc: 4.286\n",
      "--------------------------------------------------\n",
      "[INFO]: Epoch 28 of 50\n",
      "Training\n"
     ]
    },
    {
     "data": {
      "application/vnd.jupyter.widget-view+json": {
       "model_id": "0adde340f3a7488bacc5d5491cbde941",
       "version_major": 2,
       "version_minor": 0
      },
      "text/plain": [
       "  0%|          | 0/140 [00:00<?, ?it/s]"
      ]
     },
     "metadata": {},
     "output_type": "display_data"
    },
    {
     "name": "stdout",
     "output_type": "stream",
     "text": [
      "Validation\n"
     ]
    },
    {
     "data": {
      "application/vnd.jupyter.widget-view+json": {
       "model_id": "053b6290134f4443ba4b80e1e2e105f9",
       "version_major": 2,
       "version_minor": 0
      },
      "text/plain": [
       "  0%|          | 0/35 [00:00<?, ?it/s]"
      ]
     },
     "metadata": {},
     "output_type": "display_data"
    },
    {
     "name": "stdout",
     "output_type": "stream",
     "text": [
      "Training loss: 2.641, training acc: 6.964\n",
      "Validation loss: 2.657, validation acc: 4.286\n",
      "--------------------------------------------------\n",
      "[INFO]: Epoch 29 of 50\n",
      "Training\n"
     ]
    },
    {
     "data": {
      "application/vnd.jupyter.widget-view+json": {
       "model_id": "2469214193ed4098bded2c7de0a99b32",
       "version_major": 2,
       "version_minor": 0
      },
      "text/plain": [
       "  0%|          | 0/140 [00:00<?, ?it/s]"
      ]
     },
     "metadata": {},
     "output_type": "display_data"
    },
    {
     "name": "stdout",
     "output_type": "stream",
     "text": [
      "Validation\n"
     ]
    },
    {
     "data": {
      "application/vnd.jupyter.widget-view+json": {
       "model_id": "2135ebd770a84217b3d3df7fa7dfa6b7",
       "version_major": 2,
       "version_minor": 0
      },
      "text/plain": [
       "  0%|          | 0/35 [00:00<?, ?it/s]"
      ]
     },
     "metadata": {},
     "output_type": "display_data"
    },
    {
     "name": "stdout",
     "output_type": "stream",
     "text": [
      "Training loss: 2.640, training acc: 7.143\n",
      "Validation loss: 2.657, validation acc: 4.286\n",
      "--------------------------------------------------\n",
      "[INFO]: Epoch 30 of 50\n",
      "Training\n"
     ]
    },
    {
     "data": {
      "application/vnd.jupyter.widget-view+json": {
       "model_id": "5b9af7ad85c540609ebe4f186912ffe9",
       "version_major": 2,
       "version_minor": 0
      },
      "text/plain": [
       "  0%|          | 0/140 [00:00<?, ?it/s]"
      ]
     },
     "metadata": {},
     "output_type": "display_data"
    },
    {
     "name": "stdout",
     "output_type": "stream",
     "text": [
      "Validation\n"
     ]
    },
    {
     "data": {
      "application/vnd.jupyter.widget-view+json": {
       "model_id": "d92d15caf7e24bc7aa41d93646578b36",
       "version_major": 2,
       "version_minor": 0
      },
      "text/plain": [
       "  0%|          | 0/35 [00:00<?, ?it/s]"
      ]
     },
     "metadata": {},
     "output_type": "display_data"
    },
    {
     "name": "stdout",
     "output_type": "stream",
     "text": [
      "Training loss: 2.641, training acc: 6.071\n",
      "Validation loss: 2.658, validation acc: 4.286\n",
      "--------------------------------------------------\n",
      "[INFO]: Epoch 31 of 50\n",
      "Training\n"
     ]
    },
    {
     "data": {
      "application/vnd.jupyter.widget-view+json": {
       "model_id": "750f60136b2b45fc8eb4412a4fb7773a",
       "version_major": 2,
       "version_minor": 0
      },
      "text/plain": [
       "  0%|          | 0/140 [00:00<?, ?it/s]"
      ]
     },
     "metadata": {},
     "output_type": "display_data"
    },
    {
     "name": "stdout",
     "output_type": "stream",
     "text": [
      "Validation\n"
     ]
    },
    {
     "data": {
      "application/vnd.jupyter.widget-view+json": {
       "model_id": "f6f50df42a194d2690324a702c76b0ba",
       "version_major": 2,
       "version_minor": 0
      },
      "text/plain": [
       "  0%|          | 0/35 [00:00<?, ?it/s]"
      ]
     },
     "metadata": {},
     "output_type": "display_data"
    },
    {
     "name": "stdout",
     "output_type": "stream",
     "text": [
      "Training loss: 2.640, training acc: 6.429\n",
      "Validation loss: 2.656, validation acc: 4.286\n",
      "--------------------------------------------------\n",
      "[INFO]: Epoch 32 of 50\n",
      "Training\n"
     ]
    },
    {
     "data": {
      "application/vnd.jupyter.widget-view+json": {
       "model_id": "ee7086ee75c640cdb2bbdd4e8d230a17",
       "version_major": 2,
       "version_minor": 0
      },
      "text/plain": [
       "  0%|          | 0/140 [00:00<?, ?it/s]"
      ]
     },
     "metadata": {},
     "output_type": "display_data"
    },
    {
     "name": "stdout",
     "output_type": "stream",
     "text": [
      "Validation\n"
     ]
    },
    {
     "data": {
      "application/vnd.jupyter.widget-view+json": {
       "model_id": "c9041477f4bf46159c952df7da732574",
       "version_major": 2,
       "version_minor": 0
      },
      "text/plain": [
       "  0%|          | 0/35 [00:00<?, ?it/s]"
      ]
     },
     "metadata": {},
     "output_type": "display_data"
    },
    {
     "name": "stdout",
     "output_type": "stream",
     "text": [
      "Training loss: 2.641, training acc: 6.964\n",
      "Validation loss: 2.657, validation acc: 4.286\n",
      "--------------------------------------------------\n",
      "[INFO]: Epoch 33 of 50\n",
      "Training\n"
     ]
    },
    {
     "data": {
      "application/vnd.jupyter.widget-view+json": {
       "model_id": "31ed2e7d39a64742898fa58bf79ab257",
       "version_major": 2,
       "version_minor": 0
      },
      "text/plain": [
       "  0%|          | 0/140 [00:00<?, ?it/s]"
      ]
     },
     "metadata": {},
     "output_type": "display_data"
    },
    {
     "name": "stdout",
     "output_type": "stream",
     "text": [
      "Validation\n"
     ]
    },
    {
     "data": {
      "application/vnd.jupyter.widget-view+json": {
       "model_id": "ac365a9a840e421d99a1267efd87272a",
       "version_major": 2,
       "version_minor": 0
      },
      "text/plain": [
       "  0%|          | 0/35 [00:00<?, ?it/s]"
      ]
     },
     "metadata": {},
     "output_type": "display_data"
    },
    {
     "name": "stdout",
     "output_type": "stream",
     "text": [
      "Training loss: 2.640, training acc: 6.607\n",
      "Validation loss: 2.658, validation acc: 4.286\n",
      "--------------------------------------------------\n",
      "[INFO]: Epoch 34 of 50\n",
      "Training\n"
     ]
    },
    {
     "data": {
      "application/vnd.jupyter.widget-view+json": {
       "model_id": "b4b14760fd834adaab15e0a275b5bad8",
       "version_major": 2,
       "version_minor": 0
      },
      "text/plain": [
       "  0%|          | 0/140 [00:00<?, ?it/s]"
      ]
     },
     "metadata": {},
     "output_type": "display_data"
    },
    {
     "name": "stdout",
     "output_type": "stream",
     "text": [
      "Validation\n"
     ]
    },
    {
     "data": {
      "application/vnd.jupyter.widget-view+json": {
       "model_id": "9f9c5881c89e4a7ab4312e6891572a6c",
       "version_major": 2,
       "version_minor": 0
      },
      "text/plain": [
       "  0%|          | 0/35 [00:00<?, ?it/s]"
      ]
     },
     "metadata": {},
     "output_type": "display_data"
    },
    {
     "name": "stdout",
     "output_type": "stream",
     "text": [
      "Training loss: 2.642, training acc: 6.071\n",
      "Validation loss: 2.657, validation acc: 4.286\n",
      "--------------------------------------------------\n",
      "[INFO]: Epoch 35 of 50\n",
      "Training\n"
     ]
    },
    {
     "data": {
      "application/vnd.jupyter.widget-view+json": {
       "model_id": "c0fb9cfb7ca143f0b571ec7a32ee8163",
       "version_major": 2,
       "version_minor": 0
      },
      "text/plain": [
       "  0%|          | 0/140 [00:00<?, ?it/s]"
      ]
     },
     "metadata": {},
     "output_type": "display_data"
    },
    {
     "name": "stdout",
     "output_type": "stream",
     "text": [
      "Validation\n"
     ]
    },
    {
     "data": {
      "application/vnd.jupyter.widget-view+json": {
       "model_id": "743ab0bd26524373b736acd86973ed8a",
       "version_major": 2,
       "version_minor": 0
      },
      "text/plain": [
       "  0%|          | 0/35 [00:00<?, ?it/s]"
      ]
     },
     "metadata": {},
     "output_type": "display_data"
    },
    {
     "name": "stdout",
     "output_type": "stream",
     "text": [
      "Training loss: 2.639, training acc: 6.429\n",
      "Validation loss: 2.656, validation acc: 4.286\n",
      "--------------------------------------------------\n",
      "[INFO]: Epoch 36 of 50\n",
      "Training\n"
     ]
    },
    {
     "data": {
      "application/vnd.jupyter.widget-view+json": {
       "model_id": "4153194d8d724f08b05fcd1423f9a952",
       "version_major": 2,
       "version_minor": 0
      },
      "text/plain": [
       "  0%|          | 0/140 [00:00<?, ?it/s]"
      ]
     },
     "metadata": {},
     "output_type": "display_data"
    },
    {
     "name": "stdout",
     "output_type": "stream",
     "text": [
      "Validation\n"
     ]
    },
    {
     "data": {
      "application/vnd.jupyter.widget-view+json": {
       "model_id": "5eae651009074fba86e29a46a3d04ba5",
       "version_major": 2,
       "version_minor": 0
      },
      "text/plain": [
       "  0%|          | 0/35 [00:00<?, ?it/s]"
      ]
     },
     "metadata": {},
     "output_type": "display_data"
    },
    {
     "name": "stdout",
     "output_type": "stream",
     "text": [
      "Training loss: 2.640, training acc: 6.607\n",
      "Validation loss: 2.657, validation acc: 4.286\n",
      "--------------------------------------------------\n",
      "[INFO]: Epoch 37 of 50\n",
      "Training\n"
     ]
    },
    {
     "data": {
      "application/vnd.jupyter.widget-view+json": {
       "model_id": "236d56fe40ca4894aa78e7eafd0e1205",
       "version_major": 2,
       "version_minor": 0
      },
      "text/plain": [
       "  0%|          | 0/140 [00:00<?, ?it/s]"
      ]
     },
     "metadata": {},
     "output_type": "display_data"
    },
    {
     "name": "stdout",
     "output_type": "stream",
     "text": [
      "Validation\n"
     ]
    },
    {
     "data": {
      "application/vnd.jupyter.widget-view+json": {
       "model_id": "34ee48c360c34f79b8427afe2307053e",
       "version_major": 2,
       "version_minor": 0
      },
      "text/plain": [
       "  0%|          | 0/35 [00:00<?, ?it/s]"
      ]
     },
     "metadata": {},
     "output_type": "display_data"
    },
    {
     "name": "stdout",
     "output_type": "stream",
     "text": [
      "Training loss: 2.640, training acc: 6.964\n",
      "Validation loss: 2.657, validation acc: 4.286\n",
      "--------------------------------------------------\n",
      "[INFO]: Epoch 38 of 50\n",
      "Training\n"
     ]
    },
    {
     "data": {
      "application/vnd.jupyter.widget-view+json": {
       "model_id": "56da376a5bc746a387d8c0b560410599",
       "version_major": 2,
       "version_minor": 0
      },
      "text/plain": [
       "  0%|          | 0/140 [00:00<?, ?it/s]"
      ]
     },
     "metadata": {},
     "output_type": "display_data"
    },
    {
     "name": "stdout",
     "output_type": "stream",
     "text": [
      "Validation\n"
     ]
    },
    {
     "data": {
      "application/vnd.jupyter.widget-view+json": {
       "model_id": "8d09bfa45bb44acb9ec0c53ad5778bbf",
       "version_major": 2,
       "version_minor": 0
      },
      "text/plain": [
       "  0%|          | 0/35 [00:00<?, ?it/s]"
      ]
     },
     "metadata": {},
     "output_type": "display_data"
    },
    {
     "name": "stdout",
     "output_type": "stream",
     "text": [
      "Training loss: 2.640, training acc: 6.071\n",
      "Validation loss: 2.656, validation acc: 4.286\n",
      "--------------------------------------------------\n",
      "[INFO]: Epoch 39 of 50\n",
      "Training\n"
     ]
    },
    {
     "data": {
      "application/vnd.jupyter.widget-view+json": {
       "model_id": "571254216bb64019bc6080e70ecdb730",
       "version_major": 2,
       "version_minor": 0
      },
      "text/plain": [
       "  0%|          | 0/140 [00:00<?, ?it/s]"
      ]
     },
     "metadata": {},
     "output_type": "display_data"
    },
    {
     "name": "stdout",
     "output_type": "stream",
     "text": [
      "Validation\n"
     ]
    },
    {
     "data": {
      "application/vnd.jupyter.widget-view+json": {
       "model_id": "982fe0f7edeb4644a9788f325fe0e64c",
       "version_major": 2,
       "version_minor": 0
      },
      "text/plain": [
       "  0%|          | 0/35 [00:00<?, ?it/s]"
      ]
     },
     "metadata": {},
     "output_type": "display_data"
    },
    {
     "name": "stdout",
     "output_type": "stream",
     "text": [
      "Training loss: 2.643, training acc: 7.500\n",
      "Validation loss: 2.656, validation acc: 4.286\n",
      "--------------------------------------------------\n",
      "[INFO]: Epoch 40 of 50\n",
      "Training\n"
     ]
    },
    {
     "data": {
      "application/vnd.jupyter.widget-view+json": {
       "model_id": "24aa7e0e3cd04475a88e5a32cba55477",
       "version_major": 2,
       "version_minor": 0
      },
      "text/plain": [
       "  0%|          | 0/140 [00:00<?, ?it/s]"
      ]
     },
     "metadata": {},
     "output_type": "display_data"
    },
    {
     "name": "stdout",
     "output_type": "stream",
     "text": [
      "Validation\n"
     ]
    },
    {
     "data": {
      "application/vnd.jupyter.widget-view+json": {
       "model_id": "dd0f12b72a4044678aba706389baf1b9",
       "version_major": 2,
       "version_minor": 0
      },
      "text/plain": [
       "  0%|          | 0/35 [00:00<?, ?it/s]"
      ]
     },
     "metadata": {},
     "output_type": "display_data"
    },
    {
     "name": "stdout",
     "output_type": "stream",
     "text": [
      "Training loss: 2.641, training acc: 7.321\n",
      "Validation loss: 2.657, validation acc: 4.286\n",
      "--------------------------------------------------\n",
      "[INFO]: Epoch 41 of 50\n",
      "Training\n"
     ]
    },
    {
     "data": {
      "application/vnd.jupyter.widget-view+json": {
       "model_id": "c5fcafa553874cd69990c7075c608bed",
       "version_major": 2,
       "version_minor": 0
      },
      "text/plain": [
       "  0%|          | 0/140 [00:00<?, ?it/s]"
      ]
     },
     "metadata": {},
     "output_type": "display_data"
    },
    {
     "name": "stdout",
     "output_type": "stream",
     "text": [
      "Validation\n"
     ]
    },
    {
     "data": {
      "application/vnd.jupyter.widget-view+json": {
       "model_id": "3ae527af61004fc0853198f3775ac7e5",
       "version_major": 2,
       "version_minor": 0
      },
      "text/plain": [
       "  0%|          | 0/35 [00:00<?, ?it/s]"
      ]
     },
     "metadata": {},
     "output_type": "display_data"
    },
    {
     "name": "stdout",
     "output_type": "stream",
     "text": [
      "Training loss: 2.640, training acc: 7.679\n",
      "Validation loss: 2.654, validation acc: 4.286\n",
      "\n",
      "Best validation loss: 2.6544471740722657\n",
      "\n",
      "Saving best model for epoch: 41\n",
      "\n",
      "--------------------------------------------------\n",
      "[INFO]: Epoch 42 of 50\n",
      "Training\n"
     ]
    },
    {
     "data": {
      "application/vnd.jupyter.widget-view+json": {
       "model_id": "ea63d7c08a384b5995b1ee3991cbb52f",
       "version_major": 2,
       "version_minor": 0
      },
      "text/plain": [
       "  0%|          | 0/140 [00:00<?, ?it/s]"
      ]
     },
     "metadata": {},
     "output_type": "display_data"
    },
    {
     "name": "stdout",
     "output_type": "stream",
     "text": [
      "Validation\n"
     ]
    },
    {
     "data": {
      "application/vnd.jupyter.widget-view+json": {
       "model_id": "37c981cd54e94a75b60ca14146843e83",
       "version_major": 2,
       "version_minor": 0
      },
      "text/plain": [
       "  0%|          | 0/35 [00:00<?, ?it/s]"
      ]
     },
     "metadata": {},
     "output_type": "display_data"
    },
    {
     "name": "stdout",
     "output_type": "stream",
     "text": [
      "Training loss: 2.640, training acc: 5.893\n",
      "Validation loss: 2.661, validation acc: 4.286\n",
      "--------------------------------------------------\n",
      "[INFO]: Epoch 43 of 50\n",
      "Training\n"
     ]
    },
    {
     "data": {
      "application/vnd.jupyter.widget-view+json": {
       "model_id": "1136841e4f06438aa8d894d47982e652",
       "version_major": 2,
       "version_minor": 0
      },
      "text/plain": [
       "  0%|          | 0/140 [00:00<?, ?it/s]"
      ]
     },
     "metadata": {},
     "output_type": "display_data"
    },
    {
     "name": "stdout",
     "output_type": "stream",
     "text": [
      "Validation\n"
     ]
    },
    {
     "data": {
      "application/vnd.jupyter.widget-view+json": {
       "model_id": "333bf1f270eb4b0bb97f9beac8df7b7d",
       "version_major": 2,
       "version_minor": 0
      },
      "text/plain": [
       "  0%|          | 0/35 [00:00<?, ?it/s]"
      ]
     },
     "metadata": {},
     "output_type": "display_data"
    },
    {
     "name": "stdout",
     "output_type": "stream",
     "text": [
      "Training loss: 2.640, training acc: 7.857\n",
      "Validation loss: 2.656, validation acc: 4.286\n",
      "--------------------------------------------------\n",
      "[INFO]: Epoch 44 of 50\n",
      "Training\n"
     ]
    },
    {
     "data": {
      "application/vnd.jupyter.widget-view+json": {
       "model_id": "a79def16cfc14af09eefd730dbd245f9",
       "version_major": 2,
       "version_minor": 0
      },
      "text/plain": [
       "  0%|          | 0/140 [00:00<?, ?it/s]"
      ]
     },
     "metadata": {},
     "output_type": "display_data"
    },
    {
     "name": "stdout",
     "output_type": "stream",
     "text": [
      "Validation\n"
     ]
    },
    {
     "data": {
      "application/vnd.jupyter.widget-view+json": {
       "model_id": "ed6f40c182ba4a0394f7a547d19e5bd4",
       "version_major": 2,
       "version_minor": 0
      },
      "text/plain": [
       "  0%|          | 0/35 [00:00<?, ?it/s]"
      ]
     },
     "metadata": {},
     "output_type": "display_data"
    },
    {
     "name": "stdout",
     "output_type": "stream",
     "text": [
      "Training loss: 2.639, training acc: 7.321\n",
      "Validation loss: 2.656, validation acc: 4.286\n",
      "--------------------------------------------------\n",
      "[INFO]: Epoch 45 of 50\n",
      "Training\n"
     ]
    },
    {
     "data": {
      "application/vnd.jupyter.widget-view+json": {
       "model_id": "ead423e7c0cd46cfbdebfcd4b86f70fe",
       "version_major": 2,
       "version_minor": 0
      },
      "text/plain": [
       "  0%|          | 0/140 [00:00<?, ?it/s]"
      ]
     },
     "metadata": {},
     "output_type": "display_data"
    },
    {
     "name": "stdout",
     "output_type": "stream",
     "text": [
      "Validation\n"
     ]
    },
    {
     "data": {
      "application/vnd.jupyter.widget-view+json": {
       "model_id": "eb9adce8b5cc4325a5f3ff2638d0534e",
       "version_major": 2,
       "version_minor": 0
      },
      "text/plain": [
       "  0%|          | 0/35 [00:00<?, ?it/s]"
      ]
     },
     "metadata": {},
     "output_type": "display_data"
    },
    {
     "name": "stdout",
     "output_type": "stream",
     "text": [
      "Training loss: 2.639, training acc: 6.607\n",
      "Validation loss: 2.656, validation acc: 4.286\n",
      "--------------------------------------------------\n",
      "[INFO]: Epoch 46 of 50\n",
      "Training\n"
     ]
    },
    {
     "data": {
      "application/vnd.jupyter.widget-view+json": {
       "model_id": "df3cf080dfa440668077c509bd16c8e4",
       "version_major": 2,
       "version_minor": 0
      },
      "text/plain": [
       "  0%|          | 0/140 [00:00<?, ?it/s]"
      ]
     },
     "metadata": {},
     "output_type": "display_data"
    },
    {
     "name": "stdout",
     "output_type": "stream",
     "text": [
      "Validation\n"
     ]
    },
    {
     "data": {
      "application/vnd.jupyter.widget-view+json": {
       "model_id": "e4eef60414b545a19eb8fbb70acd731c",
       "version_major": 2,
       "version_minor": 0
      },
      "text/plain": [
       "  0%|          | 0/35 [00:00<?, ?it/s]"
      ]
     },
     "metadata": {},
     "output_type": "display_data"
    },
    {
     "name": "stdout",
     "output_type": "stream",
     "text": [
      "Training loss: 2.641, training acc: 5.357\n",
      "Validation loss: 2.656, validation acc: 4.286\n",
      "--------------------------------------------------\n",
      "[INFO]: Epoch 47 of 50\n",
      "Training\n"
     ]
    },
    {
     "data": {
      "application/vnd.jupyter.widget-view+json": {
       "model_id": "e204717a345e48bcb357f538f6a90e18",
       "version_major": 2,
       "version_minor": 0
      },
      "text/plain": [
       "  0%|          | 0/140 [00:00<?, ?it/s]"
      ]
     },
     "metadata": {},
     "output_type": "display_data"
    },
    {
     "name": "stdout",
     "output_type": "stream",
     "text": [
      "Validation\n"
     ]
    },
    {
     "data": {
      "application/vnd.jupyter.widget-view+json": {
       "model_id": "f5895c9c42b447ed91b43c105e514933",
       "version_major": 2,
       "version_minor": 0
      },
      "text/plain": [
       "  0%|          | 0/35 [00:00<?, ?it/s]"
      ]
     },
     "metadata": {},
     "output_type": "display_data"
    },
    {
     "name": "stdout",
     "output_type": "stream",
     "text": [
      "Training loss: 2.640, training acc: 7.857\n",
      "Validation loss: 2.654, validation acc: 4.286\n",
      "\n",
      "Best validation loss: 2.6541341849735804\n",
      "\n",
      "Saving best model for epoch: 47\n",
      "\n",
      "--------------------------------------------------\n",
      "[INFO]: Epoch 48 of 50\n",
      "Training\n"
     ]
    },
    {
     "data": {
      "application/vnd.jupyter.widget-view+json": {
       "model_id": "d8203ac12bf4428dad725c02a8c4a0ed",
       "version_major": 2,
       "version_minor": 0
      },
      "text/plain": [
       "  0%|          | 0/140 [00:00<?, ?it/s]"
      ]
     },
     "metadata": {},
     "output_type": "display_data"
    },
    {
     "name": "stdout",
     "output_type": "stream",
     "text": [
      "Validation\n"
     ]
    },
    {
     "data": {
      "application/vnd.jupyter.widget-view+json": {
       "model_id": "b14cbb50f68544819385284ac12b7693",
       "version_major": 2,
       "version_minor": 0
      },
      "text/plain": [
       "  0%|          | 0/35 [00:00<?, ?it/s]"
      ]
     },
     "metadata": {},
     "output_type": "display_data"
    },
    {
     "name": "stdout",
     "output_type": "stream",
     "text": [
      "Training loss: 2.650, training acc: 8.036\n",
      "Validation loss: 2.657, validation acc: 4.286\n",
      "--------------------------------------------------\n",
      "[INFO]: Epoch 49 of 50\n",
      "Training\n"
     ]
    },
    {
     "data": {
      "application/vnd.jupyter.widget-view+json": {
       "model_id": "dfab5d094ec64387a2d05239239294c3",
       "version_major": 2,
       "version_minor": 0
      },
      "text/plain": [
       "  0%|          | 0/140 [00:00<?, ?it/s]"
      ]
     },
     "metadata": {},
     "output_type": "display_data"
    },
    {
     "name": "stdout",
     "output_type": "stream",
     "text": [
      "Validation\n"
     ]
    },
    {
     "data": {
      "application/vnd.jupyter.widget-view+json": {
       "model_id": "a7e32ce1ff9a4656bdb560aca3c848f2",
       "version_major": 2,
       "version_minor": 0
      },
      "text/plain": [
       "  0%|          | 0/35 [00:00<?, ?it/s]"
      ]
     },
     "metadata": {},
     "output_type": "display_data"
    },
    {
     "name": "stdout",
     "output_type": "stream",
     "text": [
      "Training loss: 2.640, training acc: 6.786\n",
      "Validation loss: 2.656, validation acc: 4.286\n",
      "--------------------------------------------------\n",
      "[INFO]: Epoch 50 of 50\n",
      "Training\n"
     ]
    },
    {
     "data": {
      "application/vnd.jupyter.widget-view+json": {
       "model_id": "e54e759acf8d4ae9b0d48b3692ad5cb0",
       "version_major": 2,
       "version_minor": 0
      },
      "text/plain": [
       "  0%|          | 0/140 [00:00<?, ?it/s]"
      ]
     },
     "metadata": {},
     "output_type": "display_data"
    },
    {
     "name": "stdout",
     "output_type": "stream",
     "text": [
      "Validation\n"
     ]
    },
    {
     "data": {
      "application/vnd.jupyter.widget-view+json": {
       "model_id": "d399b0de25514152b0e8e90eac8f454a",
       "version_major": 2,
       "version_minor": 0
      },
      "text/plain": [
       "  0%|          | 0/35 [00:00<?, ?it/s]"
      ]
     },
     "metadata": {},
     "output_type": "display_data"
    },
    {
     "name": "stdout",
     "output_type": "stream",
     "text": [
      "Training loss: 2.639, training acc: 6.429\n",
      "Validation loss: 2.656, validation acc: 4.286\n",
      "--------------------------------------------------\n"
     ]
    }
   ],
   "source": [
    "train_loss, valid_loss = [],[]\n",
    "train_acc, valid_acc = [],[]\n",
    "\n",
    "# begin training\n",
    "for epoch in range(1,NUM_EPOCHS+1):\n",
    "    print(f\"[INFO]: Epoch {epoch} of {NUM_EPOCHS}\")\n",
    "    train_epoch_loss, train_epoch_acc = train(model, train_loader, optimizer, lossfcn)\n",
    "    valid_epoch_loss, valid_epoch_acc = validate(model, test_loader, lossfcn)\n",
    "    train_loss.append(train_epoch_loss)\n",
    "    valid_loss.append(valid_epoch_loss)\n",
    "    train_acc.append(train_epoch_acc)\n",
    "    valid_acc.append(valid_epoch_acc)\n",
    "    print(f\"Training loss: {train_epoch_loss:.3f}, training acc: {train_epoch_acc:.3f}\")\n",
    "    print(f\"Validation loss: {valid_epoch_loss:.3f}, validation acc: {valid_epoch_acc:.3f}\")\n",
    "\n",
    "    # save the best model up to current epoch, if we have the least loss in the current epoch\n",
    "    save_best_model(\n",
    "        valid_epoch_loss, epoch, model, optimizer, lossfcn\n",
    "    )\n",
    "    print('-'*50)\n",
    "    "
   ]
  },
  {
   "cell_type": "markdown",
   "id": "7282e251-7154-438d-93b9-038c23e09d8a",
   "metadata": {},
   "source": [
    "Finally, we save the trained model weights and the loss and accuracy plots."
   ]
  },
  {
   "cell_type": "code",
   "execution_count": 246,
   "id": "fa89a9d6-33c5-4b13-b923-287371c4fc8f",
   "metadata": {},
   "outputs": [
    {
     "name": "stdout",
     "output_type": "stream",
     "text": [
      "Saving final model...\n"
     ]
    },
    {
     "data": {
      "text/plain": [
       "(<Figure size 1000x700 with 1 Axes>, <Figure size 1000x700 with 1 Axes>)"
      ]
     },
     "execution_count": 246,
     "metadata": {},
     "output_type": "execute_result"
    },
    {
     "data": {
      "image/png": "[encoded data removed]",
      "text/plain": [
       "<Figure size 1000x700 with 1 Axes>"
      ]
     },
     "metadata": {},
     "output_type": "display_data"
    },
    {
     "data": {
      "image/png": "[encoded data removed]",
      "text/plain": [
       "<Figure size 1000x700 with 1 Axes>"
      ]
     },
     "metadata": {},
     "output_type": "display_data"
    }
   ],
   "source": [
    "save_model(NUM_EPOCHS, model, optimizer, lossfcn)\n",
    "save_plots(train_acc, valid_acc, train_loss, valid_loss)"
   ]
  },
  {
   "cell_type": "markdown",
   "id": "3e21fe26-eaf6-4b1a-b426-1d8d7d50ec2d",
   "metadata": {},
   "source": [
    "We can also visualize the model performance after training is complete thorugh a confusion matrix. We load in the best model and plot the confusion matrix."
   ]
  },
  {
   "cell_type": "code",
   "execution_count": 247,
   "id": "f5361ec1-0865-468a-a480-0c1fd3968a10",
   "metadata": {
    "scrolled": true
   },
   "outputs": [
    {
     "name": "stdout",
     "output_type": "stream",
     "text": [
      "Using validation to compute confusion matrix\n"
     ]
    },
    {
     "name": "stderr",
     "output_type": "stream",
     "text": [
      "/var/folders/74/p7lyl9yx35b6wh5_7x3ply4r0000gq/T/ipykernel_3655/246017674.py:4: FutureWarning: You are using `torch.load` with `weights_only=False` (the current default value), which uses the default pickle module implicitly. It is possible to construct malicious pickle data which will execute arbitrary code during unpickling (See https://github.com/pytorch/pytorch/blob/main/SECURITY.md#untrusted-models for more details). In a future release, the default value for `weights_only` will be flipped to `True`. This limits the functions that could be executed during unpickling. Arbitrary objects will no longer be allowed to be loaded via this mode unless they are explicitly allowlisted by the user via `torch.serialization.add_safe_globals`. We recommend you start setting `weights_only=True` for any use case where you don't have full control of the loaded file. Please open an issue on GitHub for any issues related to this experimental feature.\n",
      "  state_dict = torch.load('outputs/best_model.pth')['model_state_dict']\n"
     ]
    },
    {
     "data": {
      "application/vnd.jupyter.widget-view+json": {
       "model_id": "7d4f5b8391f64adf841789f83f46dd8f",
       "version_major": 2,
       "version_minor": 0
      },
      "text/plain": [
       "  0%|          | 0/35 [00:00<?, ?it/s]"
      ]
     },
     "metadata": {},
     "output_type": "display_data"
    },
    {
     "name": "stdout",
     "output_type": "stream",
     "text": [
      "classes: ['Apple', 'Passiflora', 'Ivy', 'Arabidopsis', 'Grass', 'Potato', 'Alstroemeria', 'Cotton', 'Viburnum', 'Grape', 'Brassica', 'Pepper', 'Tomato', 'Coleus']\n",
      "Test Result:\n",
      "================================================\n",
      "Accuracy Score: 4.29%\n",
      "_______________________________________________\n",
      "CLASSIFICATION REPORT:\n",
      "             0     1     2    3    4    5     6     7    8         9    10  \\\n",
      "precision  0.0   0.0   0.0  0.0  0.0  0.0   0.0   0.0  0.0  0.042857   0.0   \n",
      "recall     0.0   0.0   0.0  0.0  0.0  0.0   0.0   0.0  0.0  1.000000   0.0   \n",
      "f1-score   0.0   0.0   0.0  0.0  0.0  0.0   0.0   0.0  0.0  0.082192   0.0   \n",
      "support    9.0  11.0  13.0  7.0  6.0  7.0  15.0  12.0  9.0  6.000000  11.0   \n",
      "\n",
      "             11    12    13  accuracy   macro avg  weighted avg  \n",
      "precision   0.0   0.0   0.0  0.042857    0.003061      0.001837  \n",
      "recall      0.0   0.0   0.0  0.042857    0.071429      0.042857  \n",
      "f1-score    0.0   0.0   0.0  0.042857    0.005871      0.003523  \n",
      "support    10.0  12.0  12.0  0.042857  140.000000    140.000000  \n",
      "_______________________________________________\n",
      "Confusion Matrix: \n",
      " [[ 0  0  0  0  0  0  0  0  0  9  0  0  0  0]\n",
      " [ 0  0  0  0  0  0  0  0  0 11  0  0  0  0]\n",
      " [ 0  0  0  0  0  0  0  0  0 13  0  0  0  0]\n",
      " [ 0  0  0  0  0  0  0  0  0  7  0  0  0  0]\n",
      " [ 0  0  0  0  0  0  0  0  0  6  0  0  0  0]\n",
      " [ 0  0  0  0  0  0  0  0  0  7  0  0  0  0]\n",
      " [ 0  0  0  0  0  0  0  0  0 15  0  0  0  0]\n",
      " [ 0  0  0  0  0  0  0  0  0 12  0  0  0  0]\n",
      " [ 0  0  0  0  0  0  0  0  0  9  0  0  0  0]\n",
      " [ 0  0  0  0  0  0  0  0  0  6  0  0  0  0]\n",
      " [ 0  0  0  0  0  0  0  0  0 11  0  0  0  0]\n",
      " [ 0  0  0  0  0  0  0  0  0 10  0  0  0  0]\n",
      " [ 0  0  0  0  0  0  0  0  0 12  0  0  0  0]\n",
      " [ 0  0  0  0  0  0  0  0  0 12  0  0  0  0]]\n",
      "\n"
     ]
    },
    {
     "name": "stderr",
     "output_type": "stream",
     "text": [
      "/opt/anaconda3/lib/python3.12/site-packages/sklearn/metrics/_classification.py:1509: UndefinedMetricWarning: Precision is ill-defined and being set to 0.0 in labels with no predicted samples. Use `zero_division` parameter to control this behavior.\n",
      "  _warn_prf(average, modifier, f\"{metric.capitalize()} is\", len(result))\n",
      "/opt/anaconda3/lib/python3.12/site-packages/sklearn/metrics/_classification.py:1509: UndefinedMetricWarning: Precision is ill-defined and being set to 0.0 in labels with no predicted samples. Use `zero_division` parameter to control this behavior.\n",
      "  _warn_prf(average, modifier, f\"{metric.capitalize()} is\", len(result))\n",
      "/opt/anaconda3/lib/python3.12/site-packages/sklearn/metrics/_classification.py:1509: UndefinedMetricWarning: Precision is ill-defined and being set to 0.0 in labels with no predicted samples. Use `zero_division` parameter to control this behavior.\n",
      "  _warn_prf(average, modifier, f\"{metric.capitalize()} is\", len(result))\n"
     ]
    },
    {
     "data": {
      "image/png": "[encoded data removed]",
      "text/plain": [
       "<Figure size 1200x700 with 2 Axes>"
      ]
     },
     "metadata": {},
     "output_type": "display_data"
    }
   ],
   "source": [
    "# model, valid_loader, lossfcn\n",
    "model = CNN(num_classes=train_dataset.num_classes, num_channels=trainimages.shape[1],input_resolution=(num_dirs,num_thresh))\n",
    "\n",
    "state_dict = torch.load('outputs/best_model.pth')['model_state_dict']\n",
    "model.load_state_dict(state_dict)\n",
    "model.eval()\n",
    "model = model.to(device)\n",
    "print('Using validation to compute confusion matrix')\n",
    "valid_running_pred = []\n",
    "valid_running_labels = []\n",
    "counter = 0\n",
    "with torch.no_grad():\n",
    "    for i, data in tqdm(enumerate(test_loader), total=len(test_loader)):\n",
    "        counter += 1\n",
    "        \n",
    "        image, labels = data\n",
    "        image = image.to(device)\n",
    "        labels = labels.to(device)\n",
    "        # forward pass\n",
    "        outputs = model(image)\n",
    "        # calculate the accuracy\n",
    "        _, preds = torch.max(outputs.data, 1)\n",
    "\n",
    "        valid_running_pred.append(preds)\n",
    "        valid_running_labels.append(labels)\n",
    "    \n",
    "# confusion matrix for the complete epoch\n",
    "valid_running_pred = torch.cat(valid_running_pred)\n",
    "valid_running_labels = torch.cat(valid_running_labels)\n",
    "print('classes:',test_dataset.classes)\n",
    "save_cf(valid_running_pred.cpu(),valid_running_labels.cpu(), test_dataset.classes)"
   ]
  },
  {
   "cell_type": "code",
   "execution_count": null,
   "id": "a7b77776-fd1a-48d9-a6bb-8a6394405ee4",
   "metadata": {},
   "outputs": [],
   "source": []
  },
  {
   "cell_type": "code",
   "execution_count": null,
   "id": "e5fef9f7-87ff-42c4-9d05-31c30854ec17",
   "metadata": {},
   "outputs": [],
   "source": []
  },
  {
   "cell_type": "code",
   "execution_count": null,
   "id": "553e9a47-21ad-46cb-a110-dc0e39ea0351",
   "metadata": {},
   "outputs": [],
   "source": []
  }
 ],
 "metadata": {
  "kernelspec": {
   "display_name": "Python 3 (ipykernel)",
   "language": "python",
   "name": "python3"
  },
  "language_info": {
   "codemirror_mode": {
    "name": "ipython",
    "version": 3
   },
   "file_extension": ".py",
   "mimetype": "text/x-python",
   "name": "python",
   "nbconvert_exporter": "python",
   "pygments_lexer": "ipython3",
   "version": "3.12.4"
  }
 },
 "nbformat": 4,
 "nbformat_minor": 5
}
